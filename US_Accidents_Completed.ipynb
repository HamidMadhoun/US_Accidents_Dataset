{
  "nbformat": 4,
  "nbformat_minor": 0,
  "metadata": {
    "colab": {
      "provenance": [],
      "toc_visible": true
    },
    "kernelspec": {
      "name": "python3",
      "display_name": "Python 3"
    },
    "language_info": {
      "name": "python"
    }
  },
  "cells": [
    {
      "cell_type": "code",
      "execution_count": 1,
      "metadata": {
        "id": "6D8ZBSt3RC_M"
      },
      "outputs": [],
      "source": [
        "pip install opendatasets --upgrade --quiet "
      ]
    },
    {
      "cell_type": "code",
      "source": [
        "from os import SEEK_DATA\n",
        "SEEK_DATA"
      ],
      "metadata": {
        "id": "SEg3rp3UWDOT",
        "colab": {
          "base_uri": "https://localhost:8080/"
        },
        "outputId": "e8a9650c-7fd2-4a86-a193-92ab1e3eb446"
      },
      "execution_count": 28,
      "outputs": [
        {
          "output_type": "execute_result",
          "data": {
            "text/plain": [
              "3"
            ]
          },
          "metadata": {},
          "execution_count": 28
        }
      ]
    },
    {
      "cell_type": "code",
      "source": [
        "import folium"
      ],
      "metadata": {
        "id": "mAK-hCDJQQdb"
      },
      "execution_count": 78,
      "outputs": []
    },
    {
      "cell_type": "code",
      "source": [
        "import opendatasets as od\n",
        "\n",
        "download_url= \"https://www.kaggle.com/datasets/sobhanmoosavi/us-accidents\"\n",
        "\n",
        "od.download(download_url)"
      ],
      "metadata": {
        "colab": {
          "base_uri": "https://localhost:8080/"
        },
        "id": "2BovyEmHR6cL",
        "outputId": "7c05f058-9515-4c5e-ccaf-1069c1443b10"
      },
      "execution_count": 2,
      "outputs": [
        {
          "output_type": "stream",
          "name": "stdout",
          "text": [
            "Please provide your Kaggle credentials to download this dataset. Learn more: http://bit.ly/kaggle-creds\n",
            "Your Kaggle username: hamidmadhoun\n",
            "Your Kaggle Key: ··········\n",
            "Downloading us-accidents.zip to ./us-accidents\n"
          ]
        },
        {
          "output_type": "stream",
          "name": "stderr",
          "text": [
            "100%|██████████| 269M/269M [00:01<00:00, 143MB/s]\n"
          ]
        },
        {
          "output_type": "stream",
          "name": "stdout",
          "text": [
            "\n"
          ]
        }
      ]
    },
    {
      "cell_type": "code",
      "source": [
        "data_filename = \"./us-accidents/US_Accidents_Dec21_updated.csv\""
      ],
      "metadata": {
        "id": "quxJuCwXS2xF"
      },
      "execution_count": 3,
      "outputs": []
    },
    {
      "cell_type": "code",
      "source": [
        "data_filename"
      ],
      "metadata": {
        "colab": {
          "base_uri": "https://localhost:8080/",
          "height": 35
        },
        "id": "hoOqo0ULS9gu",
        "outputId": "83936302-02a1-4539-8eee-c922bdff73f0"
      },
      "execution_count": 4,
      "outputs": [
        {
          "output_type": "execute_result",
          "data": {
            "text/plain": [
              "'./us-accidents/US_Accidents_Dec21_updated.csv'"
            ],
            "application/vnd.google.colaboratory.intrinsic+json": {
              "type": "string"
            }
          },
          "metadata": {},
          "execution_count": 4
        }
      ]
    },
    {
      "cell_type": "markdown",
      "source": [
        "# US Accidents Exploratory Data Analysis\n",
        "\n",
        "This dataset has been collected in real-time, using multiple Traffic APIs of accidents in the US.\n",
        "\n",
        "It contains accident data collected from February 2016 to Dec 2021 for the Contiguous United States. Check here to learn more about this dataset.\n",
        "\n",
        "- Data source: Kaggle\n",
        "- Data timeframe: February 2016 to December 2021\n",
        "- Data size: 2.8 million accident records\n",
        "- Dataset does not include accidents from the city of New York."
      ],
      "metadata": {
        "id": "DA5OCYl4jRpF"
      }
    },
    {
      "cell_type": "markdown",
      "source": [
        "# Data Preparation and Cleaning\n",
        "\n",
        "We will first take the following steps:\n",
        "\n",
        "1.  Load the file using Pandas\n",
        "2.  Look at some information about the data & the dataset columns\n",
        "3. Fix any missing or incorrect values or duplicated data"
      ],
      "metadata": {
        "id": "_tBV5jHWTZYb"
      }
    },
    {
      "cell_type": "code",
      "source": [
        "#we will first import the dataset using Pandas \n",
        "import pandas as pd\n",
        "\n",
        "df= pd.read_csv(data_filename)"
      ],
      "metadata": {
        "id": "nV1XpKJST0aV"
      },
      "execution_count": 5,
      "outputs": []
    },
    {
      "cell_type": "markdown",
      "source": [
        "### Review our dataset"
      ],
      "metadata": {
        "id": "sM94ytztDITf"
      }
    },
    {
      "cell_type": "code",
      "source": [
        "#let's review our dataset \n",
        "df.head(2)"
      ],
      "metadata": {
        "colab": {
          "base_uri": "https://localhost:8080/",
          "height": 309
        },
        "id": "Q7qz2IBCU-zD",
        "outputId": "f39988aa-8086-4492-c67d-22875900a4fe"
      },
      "execution_count": 6,
      "outputs": [
        {
          "output_type": "execute_result",
          "data": {
            "text/plain": [
              "    ID  Severity           Start_Time             End_Time  Start_Lat  \\\n",
              "0  A-1         3  2016-02-08 00:37:08  2016-02-08 06:37:08   40.10891   \n",
              "1  A-2         2  2016-02-08 05:56:20  2016-02-08 11:56:20   39.86542   \n",
              "\n",
              "   Start_Lng   End_Lat   End_Lng  Distance(mi)  \\\n",
              "0  -83.09286  40.11206 -83.03187         3.230   \n",
              "1  -84.06280  39.86501 -84.04873         0.747   \n",
              "\n",
              "                                         Description  ...  Roundabout Station  \\\n",
              "0  Between Sawmill Rd/Exit 20 and OH-315/Olentang...  ...       False   False   \n",
              "1                 At OH-4/OH-235/Exit 41 - Accident.  ...       False   False   \n",
              "\n",
              "    Stop Traffic_Calming Traffic_Signal Turning_Loop Sunrise_Sunset  \\\n",
              "0  False           False          False        False          Night   \n",
              "1  False           False          False        False          Night   \n",
              "\n",
              "  Civil_Twilight Nautical_Twilight Astronomical_Twilight  \n",
              "0          Night             Night                 Night  \n",
              "1          Night             Night                 Night  \n",
              "\n",
              "[2 rows x 47 columns]"
            ],
            "text/html": [
              "\n",
              "  <div id=\"df-ff8b146f-28f5-42a5-9822-40a54fe0697f\">\n",
              "    <div class=\"colab-df-container\">\n",
              "      <div>\n",
              "<style scoped>\n",
              "    .dataframe tbody tr th:only-of-type {\n",
              "        vertical-align: middle;\n",
              "    }\n",
              "\n",
              "    .dataframe tbody tr th {\n",
              "        vertical-align: top;\n",
              "    }\n",
              "\n",
              "    .dataframe thead th {\n",
              "        text-align: right;\n",
              "    }\n",
              "</style>\n",
              "<table border=\"1\" class=\"dataframe\">\n",
              "  <thead>\n",
              "    <tr style=\"text-align: right;\">\n",
              "      <th></th>\n",
              "      <th>ID</th>\n",
              "      <th>Severity</th>\n",
              "      <th>Start_Time</th>\n",
              "      <th>End_Time</th>\n",
              "      <th>Start_Lat</th>\n",
              "      <th>Start_Lng</th>\n",
              "      <th>End_Lat</th>\n",
              "      <th>End_Lng</th>\n",
              "      <th>Distance(mi)</th>\n",
              "      <th>Description</th>\n",
              "      <th>...</th>\n",
              "      <th>Roundabout</th>\n",
              "      <th>Station</th>\n",
              "      <th>Stop</th>\n",
              "      <th>Traffic_Calming</th>\n",
              "      <th>Traffic_Signal</th>\n",
              "      <th>Turning_Loop</th>\n",
              "      <th>Sunrise_Sunset</th>\n",
              "      <th>Civil_Twilight</th>\n",
              "      <th>Nautical_Twilight</th>\n",
              "      <th>Astronomical_Twilight</th>\n",
              "    </tr>\n",
              "  </thead>\n",
              "  <tbody>\n",
              "    <tr>\n",
              "      <th>0</th>\n",
              "      <td>A-1</td>\n",
              "      <td>3</td>\n",
              "      <td>2016-02-08 00:37:08</td>\n",
              "      <td>2016-02-08 06:37:08</td>\n",
              "      <td>40.10891</td>\n",
              "      <td>-83.09286</td>\n",
              "      <td>40.11206</td>\n",
              "      <td>-83.03187</td>\n",
              "      <td>3.230</td>\n",
              "      <td>Between Sawmill Rd/Exit 20 and OH-315/Olentang...</td>\n",
              "      <td>...</td>\n",
              "      <td>False</td>\n",
              "      <td>False</td>\n",
              "      <td>False</td>\n",
              "      <td>False</td>\n",
              "      <td>False</td>\n",
              "      <td>False</td>\n",
              "      <td>Night</td>\n",
              "      <td>Night</td>\n",
              "      <td>Night</td>\n",
              "      <td>Night</td>\n",
              "    </tr>\n",
              "    <tr>\n",
              "      <th>1</th>\n",
              "      <td>A-2</td>\n",
              "      <td>2</td>\n",
              "      <td>2016-02-08 05:56:20</td>\n",
              "      <td>2016-02-08 11:56:20</td>\n",
              "      <td>39.86542</td>\n",
              "      <td>-84.06280</td>\n",
              "      <td>39.86501</td>\n",
              "      <td>-84.04873</td>\n",
              "      <td>0.747</td>\n",
              "      <td>At OH-4/OH-235/Exit 41 - Accident.</td>\n",
              "      <td>...</td>\n",
              "      <td>False</td>\n",
              "      <td>False</td>\n",
              "      <td>False</td>\n",
              "      <td>False</td>\n",
              "      <td>False</td>\n",
              "      <td>False</td>\n",
              "      <td>Night</td>\n",
              "      <td>Night</td>\n",
              "      <td>Night</td>\n",
              "      <td>Night</td>\n",
              "    </tr>\n",
              "  </tbody>\n",
              "</table>\n",
              "<p>2 rows × 47 columns</p>\n",
              "</div>\n",
              "      <button class=\"colab-df-convert\" onclick=\"convertToInteractive('df-ff8b146f-28f5-42a5-9822-40a54fe0697f')\"\n",
              "              title=\"Convert this dataframe to an interactive table.\"\n",
              "              style=\"display:none;\">\n",
              "        \n",
              "  <svg xmlns=\"http://www.w3.org/2000/svg\" height=\"24px\"viewBox=\"0 0 24 24\"\n",
              "       width=\"24px\">\n",
              "    <path d=\"M0 0h24v24H0V0z\" fill=\"none\"/>\n",
              "    <path d=\"M18.56 5.44l.94 2.06.94-2.06 2.06-.94-2.06-.94-.94-2.06-.94 2.06-2.06.94zm-11 1L8.5 8.5l.94-2.06 2.06-.94-2.06-.94L8.5 2.5l-.94 2.06-2.06.94zm10 10l.94 2.06.94-2.06 2.06-.94-2.06-.94-.94-2.06-.94 2.06-2.06.94z\"/><path d=\"M17.41 7.96l-1.37-1.37c-.4-.4-.92-.59-1.43-.59-.52 0-1.04.2-1.43.59L10.3 9.45l-7.72 7.72c-.78.78-.78 2.05 0 2.83L4 21.41c.39.39.9.59 1.41.59.51 0 1.02-.2 1.41-.59l7.78-7.78 2.81-2.81c.8-.78.8-2.07 0-2.86zM5.41 20L4 18.59l7.72-7.72 1.47 1.35L5.41 20z\"/>\n",
              "  </svg>\n",
              "      </button>\n",
              "      \n",
              "  <style>\n",
              "    .colab-df-container {\n",
              "      display:flex;\n",
              "      flex-wrap:wrap;\n",
              "      gap: 12px;\n",
              "    }\n",
              "\n",
              "    .colab-df-convert {\n",
              "      background-color: #E8F0FE;\n",
              "      border: none;\n",
              "      border-radius: 50%;\n",
              "      cursor: pointer;\n",
              "      display: none;\n",
              "      fill: #1967D2;\n",
              "      height: 32px;\n",
              "      padding: 0 0 0 0;\n",
              "      width: 32px;\n",
              "    }\n",
              "\n",
              "    .colab-df-convert:hover {\n",
              "      background-color: #E2EBFA;\n",
              "      box-shadow: 0px 1px 2px rgba(60, 64, 67, 0.3), 0px 1px 3px 1px rgba(60, 64, 67, 0.15);\n",
              "      fill: #174EA6;\n",
              "    }\n",
              "\n",
              "    [theme=dark] .colab-df-convert {\n",
              "      background-color: #3B4455;\n",
              "      fill: #D2E3FC;\n",
              "    }\n",
              "\n",
              "    [theme=dark] .colab-df-convert:hover {\n",
              "      background-color: #434B5C;\n",
              "      box-shadow: 0px 1px 3px 1px rgba(0, 0, 0, 0.15);\n",
              "      filter: drop-shadow(0px 1px 2px rgba(0, 0, 0, 0.3));\n",
              "      fill: #FFFFFF;\n",
              "    }\n",
              "  </style>\n",
              "\n",
              "      <script>\n",
              "        const buttonEl =\n",
              "          document.querySelector('#df-ff8b146f-28f5-42a5-9822-40a54fe0697f button.colab-df-convert');\n",
              "        buttonEl.style.display =\n",
              "          google.colab.kernel.accessAllowed ? 'block' : 'none';\n",
              "\n",
              "        async function convertToInteractive(key) {\n",
              "          const element = document.querySelector('#df-ff8b146f-28f5-42a5-9822-40a54fe0697f');\n",
              "          const dataTable =\n",
              "            await google.colab.kernel.invokeFunction('convertToInteractive',\n",
              "                                                     [key], {});\n",
              "          if (!dataTable) return;\n",
              "\n",
              "          const docLinkHtml = 'Like what you see? Visit the ' +\n",
              "            '<a target=\"_blank\" href=https://colab.research.google.com/notebooks/data_table.ipynb>data table notebook</a>'\n",
              "            + ' to learn more about interactive tables.';\n",
              "          element.innerHTML = '';\n",
              "          dataTable['output_type'] = 'display_data';\n",
              "          await google.colab.output.renderOutput(dataTable, element);\n",
              "          const docLink = document.createElement('div');\n",
              "          docLink.innerHTML = docLinkHtml;\n",
              "          element.appendChild(docLink);\n",
              "        }\n",
              "      </script>\n",
              "    </div>\n",
              "  </div>\n",
              "  "
            ]
          },
          "metadata": {},
          "execution_count": 6
        }
      ]
    },
    {
      "cell_type": "markdown",
      "source": [
        "It looks like we have 47 columns in our dataset"
      ],
      "metadata": {
        "id": "52NQxmkCzxkU"
      }
    },
    {
      "cell_type": "code",
      "source": [
        "#let's check the dataset columns \n",
        "\n",
        "df.columns"
      ],
      "metadata": {
        "colab": {
          "base_uri": "https://localhost:8080/"
        },
        "id": "JPAgybcfVMrx",
        "outputId": "3e947e22-9dd8-4d8c-85a1-6a0b474a6b7e"
      },
      "execution_count": 7,
      "outputs": [
        {
          "output_type": "execute_result",
          "data": {
            "text/plain": [
              "Index(['ID', 'Severity', 'Start_Time', 'End_Time', 'Start_Lat', 'Start_Lng',\n",
              "       'End_Lat', 'End_Lng', 'Distance(mi)', 'Description', 'Number', 'Street',\n",
              "       'Side', 'City', 'County', 'State', 'Zipcode', 'Country', 'Timezone',\n",
              "       'Airport_Code', 'Weather_Timestamp', 'Temperature(F)', 'Wind_Chill(F)',\n",
              "       'Humidity(%)', 'Pressure(in)', 'Visibility(mi)', 'Wind_Direction',\n",
              "       'Wind_Speed(mph)', 'Precipitation(in)', 'Weather_Condition', 'Amenity',\n",
              "       'Bump', 'Crossing', 'Give_Way', 'Junction', 'No_Exit', 'Railway',\n",
              "       'Roundabout', 'Station', 'Stop', 'Traffic_Calming', 'Traffic_Signal',\n",
              "       'Turning_Loop', 'Sunrise_Sunset', 'Civil_Twilight', 'Nautical_Twilight',\n",
              "       'Astronomical_Twilight'],\n",
              "      dtype='object')"
            ]
          },
          "metadata": {},
          "execution_count": 7
        }
      ]
    },
    {
      "cell_type": "code",
      "source": [
        "#check number of rows\n",
        "\n",
        "len(df)"
      ],
      "metadata": {
        "colab": {
          "base_uri": "https://localhost:8080/"
        },
        "id": "qrMQTOlmVg6Q",
        "outputId": "4f42c70d-b813-42c7-e983-d6e8f93d87d8"
      },
      "execution_count": 8,
      "outputs": [
        {
          "output_type": "execute_result",
          "data": {
            "text/plain": [
              "2845342"
            ]
          },
          "metadata": {},
          "execution_count": 8
        }
      ]
    },
    {
      "cell_type": "markdown",
      "source": [
        "In terms of number of rows we have 2,845,342 million rows in our dataset "
      ],
      "metadata": {
        "id": "dCGeb9eI0OZN"
      }
    },
    {
      "cell_type": "code",
      "source": [
        "#Let's look at the statistical summary of the dataset using Pandas\n",
        "\n",
        "df.describe()"
      ],
      "metadata": {
        "colab": {
          "base_uri": "https://localhost:8080/",
          "height": 364
        },
        "id": "uPWJ9gJDWytU",
        "outputId": "11a7cb66-34e6-4ffe-c4e4-927a77ffce15"
      },
      "execution_count": 208,
      "outputs": [
        {
          "output_type": "execute_result",
          "data": {
            "text/plain": [
              "            Severity      Start_Lat      Start_Lng        End_Lat  \\\n",
              "count  943318.000000  943318.000000  943318.000000  943318.000000   \n",
              "mean        2.064917      35.069960     -95.102568      35.070232   \n",
              "std         0.380617       5.796634      17.794343       5.796707   \n",
              "min         1.000000      24.566027    -124.517744      24.566013   \n",
              "25%         2.000000      30.229957    -117.833342      30.230194   \n",
              "50%         2.000000      34.976113     -86.136779      34.976497   \n",
              "75%         2.000000      39.232680     -80.359477      39.232687   \n",
              "max         4.000000      48.996539     -67.484130      48.998144   \n",
              "\n",
              "             End_Lng   Distance(mi)        Number  Temperature(F)  \\\n",
              "count  943318.000000  943318.000000  9.433180e+05   943318.000000   \n",
              "mean      -95.102271       0.274626  7.924188e+03       63.833323   \n",
              "std        17.794098       0.883254  1.838707e+04       18.162256   \n",
              "min      -124.509263       0.000000  0.000000e+00      -27.000000   \n",
              "25%      -117.833756       0.040000  1.274000e+03       51.000000   \n",
              "50%       -86.137776       0.111000  4.001000e+03       66.000000   \n",
              "75%       -80.358917       0.255000  9.467000e+03       78.000000   \n",
              "max       -67.484130     112.968000  9.999997e+06      196.000000   \n",
              "\n",
              "       Wind_Chill(F)    Humidity(%)   Pressure(in)  Visibility(mi)  \\\n",
              "count  943318.000000  943318.000000  943318.000000   943318.000000   \n",
              "mean       62.944833      64.544828      29.421216        9.201041   \n",
              "std        19.773121      22.397021       1.022938        2.461330   \n",
              "min       -48.500000       1.000000      16.720000        0.000000   \n",
              "25%        51.000000      49.000000      29.290000       10.000000   \n",
              "50%        66.000000      66.000000      29.780000       10.000000   \n",
              "75%        78.000000      83.000000      29.980000       10.000000   \n",
              "max       196.000000     100.000000      58.160000      100.000000   \n",
              "\n",
              "       Wind_Speed(mph)  Precipitation(in)  \n",
              "count    943318.000000      943318.000000  \n",
              "mean          7.131648           0.004359  \n",
              "std           5.412885           0.042675  \n",
              "min           0.000000           0.000000  \n",
              "25%           3.000000           0.000000  \n",
              "50%           7.000000           0.000000  \n",
              "75%          10.000000           0.000000  \n",
              "max        1087.000000           9.990000  "
            ],
            "text/html": [
              "\n",
              "  <div id=\"df-7442777d-019e-4a15-ae91-a5ed8a8716a3\">\n",
              "    <div class=\"colab-df-container\">\n",
              "      <div>\n",
              "<style scoped>\n",
              "    .dataframe tbody tr th:only-of-type {\n",
              "        vertical-align: middle;\n",
              "    }\n",
              "\n",
              "    .dataframe tbody tr th {\n",
              "        vertical-align: top;\n",
              "    }\n",
              "\n",
              "    .dataframe thead th {\n",
              "        text-align: right;\n",
              "    }\n",
              "</style>\n",
              "<table border=\"1\" class=\"dataframe\">\n",
              "  <thead>\n",
              "    <tr style=\"text-align: right;\">\n",
              "      <th></th>\n",
              "      <th>Severity</th>\n",
              "      <th>Start_Lat</th>\n",
              "      <th>Start_Lng</th>\n",
              "      <th>End_Lat</th>\n",
              "      <th>End_Lng</th>\n",
              "      <th>Distance(mi)</th>\n",
              "      <th>Number</th>\n",
              "      <th>Temperature(F)</th>\n",
              "      <th>Wind_Chill(F)</th>\n",
              "      <th>Humidity(%)</th>\n",
              "      <th>Pressure(in)</th>\n",
              "      <th>Visibility(mi)</th>\n",
              "      <th>Wind_Speed(mph)</th>\n",
              "      <th>Precipitation(in)</th>\n",
              "    </tr>\n",
              "  </thead>\n",
              "  <tbody>\n",
              "    <tr>\n",
              "      <th>count</th>\n",
              "      <td>943318.000000</td>\n",
              "      <td>943318.000000</td>\n",
              "      <td>943318.000000</td>\n",
              "      <td>943318.000000</td>\n",
              "      <td>943318.000000</td>\n",
              "      <td>943318.000000</td>\n",
              "      <td>9.433180e+05</td>\n",
              "      <td>943318.000000</td>\n",
              "      <td>943318.000000</td>\n",
              "      <td>943318.000000</td>\n",
              "      <td>943318.000000</td>\n",
              "      <td>943318.000000</td>\n",
              "      <td>943318.000000</td>\n",
              "      <td>943318.000000</td>\n",
              "    </tr>\n",
              "    <tr>\n",
              "      <th>mean</th>\n",
              "      <td>2.064917</td>\n",
              "      <td>35.069960</td>\n",
              "      <td>-95.102568</td>\n",
              "      <td>35.070232</td>\n",
              "      <td>-95.102271</td>\n",
              "      <td>0.274626</td>\n",
              "      <td>7.924188e+03</td>\n",
              "      <td>63.833323</td>\n",
              "      <td>62.944833</td>\n",
              "      <td>64.544828</td>\n",
              "      <td>29.421216</td>\n",
              "      <td>9.201041</td>\n",
              "      <td>7.131648</td>\n",
              "      <td>0.004359</td>\n",
              "    </tr>\n",
              "    <tr>\n",
              "      <th>std</th>\n",
              "      <td>0.380617</td>\n",
              "      <td>5.796634</td>\n",
              "      <td>17.794343</td>\n",
              "      <td>5.796707</td>\n",
              "      <td>17.794098</td>\n",
              "      <td>0.883254</td>\n",
              "      <td>1.838707e+04</td>\n",
              "      <td>18.162256</td>\n",
              "      <td>19.773121</td>\n",
              "      <td>22.397021</td>\n",
              "      <td>1.022938</td>\n",
              "      <td>2.461330</td>\n",
              "      <td>5.412885</td>\n",
              "      <td>0.042675</td>\n",
              "    </tr>\n",
              "    <tr>\n",
              "      <th>min</th>\n",
              "      <td>1.000000</td>\n",
              "      <td>24.566027</td>\n",
              "      <td>-124.517744</td>\n",
              "      <td>24.566013</td>\n",
              "      <td>-124.509263</td>\n",
              "      <td>0.000000</td>\n",
              "      <td>0.000000e+00</td>\n",
              "      <td>-27.000000</td>\n",
              "      <td>-48.500000</td>\n",
              "      <td>1.000000</td>\n",
              "      <td>16.720000</td>\n",
              "      <td>0.000000</td>\n",
              "      <td>0.000000</td>\n",
              "      <td>0.000000</td>\n",
              "    </tr>\n",
              "    <tr>\n",
              "      <th>25%</th>\n",
              "      <td>2.000000</td>\n",
              "      <td>30.229957</td>\n",
              "      <td>-117.833342</td>\n",
              "      <td>30.230194</td>\n",
              "      <td>-117.833756</td>\n",
              "      <td>0.040000</td>\n",
              "      <td>1.274000e+03</td>\n",
              "      <td>51.000000</td>\n",
              "      <td>51.000000</td>\n",
              "      <td>49.000000</td>\n",
              "      <td>29.290000</td>\n",
              "      <td>10.000000</td>\n",
              "      <td>3.000000</td>\n",
              "      <td>0.000000</td>\n",
              "    </tr>\n",
              "    <tr>\n",
              "      <th>50%</th>\n",
              "      <td>2.000000</td>\n",
              "      <td>34.976113</td>\n",
              "      <td>-86.136779</td>\n",
              "      <td>34.976497</td>\n",
              "      <td>-86.137776</td>\n",
              "      <td>0.111000</td>\n",
              "      <td>4.001000e+03</td>\n",
              "      <td>66.000000</td>\n",
              "      <td>66.000000</td>\n",
              "      <td>66.000000</td>\n",
              "      <td>29.780000</td>\n",
              "      <td>10.000000</td>\n",
              "      <td>7.000000</td>\n",
              "      <td>0.000000</td>\n",
              "    </tr>\n",
              "    <tr>\n",
              "      <th>75%</th>\n",
              "      <td>2.000000</td>\n",
              "      <td>39.232680</td>\n",
              "      <td>-80.359477</td>\n",
              "      <td>39.232687</td>\n",
              "      <td>-80.358917</td>\n",
              "      <td>0.255000</td>\n",
              "      <td>9.467000e+03</td>\n",
              "      <td>78.000000</td>\n",
              "      <td>78.000000</td>\n",
              "      <td>83.000000</td>\n",
              "      <td>29.980000</td>\n",
              "      <td>10.000000</td>\n",
              "      <td>10.000000</td>\n",
              "      <td>0.000000</td>\n",
              "    </tr>\n",
              "    <tr>\n",
              "      <th>max</th>\n",
              "      <td>4.000000</td>\n",
              "      <td>48.996539</td>\n",
              "      <td>-67.484130</td>\n",
              "      <td>48.998144</td>\n",
              "      <td>-67.484130</td>\n",
              "      <td>112.968000</td>\n",
              "      <td>9.999997e+06</td>\n",
              "      <td>196.000000</td>\n",
              "      <td>196.000000</td>\n",
              "      <td>100.000000</td>\n",
              "      <td>58.160000</td>\n",
              "      <td>100.000000</td>\n",
              "      <td>1087.000000</td>\n",
              "      <td>9.990000</td>\n",
              "    </tr>\n",
              "  </tbody>\n",
              "</table>\n",
              "</div>\n",
              "      <button class=\"colab-df-convert\" onclick=\"convertToInteractive('df-7442777d-019e-4a15-ae91-a5ed8a8716a3')\"\n",
              "              title=\"Convert this dataframe to an interactive table.\"\n",
              "              style=\"display:none;\">\n",
              "        \n",
              "  <svg xmlns=\"http://www.w3.org/2000/svg\" height=\"24px\"viewBox=\"0 0 24 24\"\n",
              "       width=\"24px\">\n",
              "    <path d=\"M0 0h24v24H0V0z\" fill=\"none\"/>\n",
              "    <path d=\"M18.56 5.44l.94 2.06.94-2.06 2.06-.94-2.06-.94-.94-2.06-.94 2.06-2.06.94zm-11 1L8.5 8.5l.94-2.06 2.06-.94-2.06-.94L8.5 2.5l-.94 2.06-2.06.94zm10 10l.94 2.06.94-2.06 2.06-.94-2.06-.94-.94-2.06-.94 2.06-2.06.94z\"/><path d=\"M17.41 7.96l-1.37-1.37c-.4-.4-.92-.59-1.43-.59-.52 0-1.04.2-1.43.59L10.3 9.45l-7.72 7.72c-.78.78-.78 2.05 0 2.83L4 21.41c.39.39.9.59 1.41.59.51 0 1.02-.2 1.41-.59l7.78-7.78 2.81-2.81c.8-.78.8-2.07 0-2.86zM5.41 20L4 18.59l7.72-7.72 1.47 1.35L5.41 20z\"/>\n",
              "  </svg>\n",
              "      </button>\n",
              "      \n",
              "  <style>\n",
              "    .colab-df-container {\n",
              "      display:flex;\n",
              "      flex-wrap:wrap;\n",
              "      gap: 12px;\n",
              "    }\n",
              "\n",
              "    .colab-df-convert {\n",
              "      background-color: #E8F0FE;\n",
              "      border: none;\n",
              "      border-radius: 50%;\n",
              "      cursor: pointer;\n",
              "      display: none;\n",
              "      fill: #1967D2;\n",
              "      height: 32px;\n",
              "      padding: 0 0 0 0;\n",
              "      width: 32px;\n",
              "    }\n",
              "\n",
              "    .colab-df-convert:hover {\n",
              "      background-color: #E2EBFA;\n",
              "      box-shadow: 0px 1px 2px rgba(60, 64, 67, 0.3), 0px 1px 3px 1px rgba(60, 64, 67, 0.15);\n",
              "      fill: #174EA6;\n",
              "    }\n",
              "\n",
              "    [theme=dark] .colab-df-convert {\n",
              "      background-color: #3B4455;\n",
              "      fill: #D2E3FC;\n",
              "    }\n",
              "\n",
              "    [theme=dark] .colab-df-convert:hover {\n",
              "      background-color: #434B5C;\n",
              "      box-shadow: 0px 1px 3px 1px rgba(0, 0, 0, 0.15);\n",
              "      filter: drop-shadow(0px 1px 2px rgba(0, 0, 0, 0.3));\n",
              "      fill: #FFFFFF;\n",
              "    }\n",
              "  </style>\n",
              "\n",
              "      <script>\n",
              "        const buttonEl =\n",
              "          document.querySelector('#df-7442777d-019e-4a15-ae91-a5ed8a8716a3 button.colab-df-convert');\n",
              "        buttonEl.style.display =\n",
              "          google.colab.kernel.accessAllowed ? 'block' : 'none';\n",
              "\n",
              "        async function convertToInteractive(key) {\n",
              "          const element = document.querySelector('#df-7442777d-019e-4a15-ae91-a5ed8a8716a3');\n",
              "          const dataTable =\n",
              "            await google.colab.kernel.invokeFunction('convertToInteractive',\n",
              "                                                     [key], {});\n",
              "          if (!dataTable) return;\n",
              "\n",
              "          const docLinkHtml = 'Like what you see? Visit the ' +\n",
              "            '<a target=\"_blank\" href=https://colab.research.google.com/notebooks/data_table.ipynb>data table notebook</a>'\n",
              "            + ' to learn more about interactive tables.';\n",
              "          element.innerHTML = '';\n",
              "          dataTable['output_type'] = 'display_data';\n",
              "          await google.colab.output.renderOutput(dataTable, element);\n",
              "          const docLink = document.createElement('div');\n",
              "          docLink.innerHTML = docLinkHtml;\n",
              "          element.appendChild(docLink);\n",
              "        }\n",
              "      </script>\n",
              "    </div>\n",
              "  </div>\n",
              "  "
            ]
          },
          "metadata": {},
          "execution_count": 208
        }
      ]
    },
    {
      "cell_type": "markdown",
      "source": [
        "From the describe function we can observe a few things about our dataset:\n",
        "\n",
        "1. Maximum and Minimum value for each column (example \"Severity\": 1-4)\n",
        "2. Standard deviation value of each column (how far away from the mean)\n",
        "3. The Quartile for each column "
      ],
      "metadata": {
        "id": "sUfVc3UNx2Uf"
      }
    },
    {
      "cell_type": "code",
      "source": [
        "#let's see how  many numerical columns we have in the dataset\n",
        "\n",
        "numerics = ['int16', 'int32', 'int64', 'float16', 'float32', 'float64'] \n",
        "\n",
        "numeric_df= df.select_dtypes(include=numerics)\n",
        "\n",
        "len(numeric_df.columns)"
      ],
      "metadata": {
        "colab": {
          "base_uri": "https://localhost:8080/"
        },
        "id": "3Tc1V_eEX0Ay",
        "outputId": "a1230817-2cf8-4f5e-fb28-58d92a06ae86"
      },
      "execution_count": 10,
      "outputs": [
        {
          "output_type": "execute_result",
          "data": {
            "text/plain": [
              "14"
            ]
          },
          "metadata": {},
          "execution_count": 10
        }
      ]
    },
    {
      "cell_type": "markdown",
      "source": [
        "Of the 47 columns that we have in our dataset, 14 columns are numerical data.\n",
        "\n",
        "Note**\n",
        "\n",
        "Numerics = ['int16', 'int32', 'int64', 'float16', 'float32', 'float64'] \n",
        "\n",
        "Those are the different generic numerical datatypes in python.\n",
        "We created a list that included them so that we can test our dataset to see how many of those we have in our columns"
      ],
      "metadata": {
        "id": "m2Nhc3wW2-Z5"
      }
    },
    {
      "cell_type": "markdown",
      "source": [
        "### Check for Null values"
      ],
      "metadata": {
        "id": "W00MRxydDgXN"
      }
    },
    {
      "cell_type": "code",
      "source": [
        "#first let's see how many null values we have in total\n",
        "df.isnull().sum().sum()"
      ],
      "metadata": {
        "colab": {
          "base_uri": "https://localhost:8080/"
        },
        "id": "hiK2uro2_w38",
        "outputId": "ab04f355-f43a-4804-c9da-3920f0927edf"
      },
      "execution_count": 13,
      "outputs": [
        {
          "output_type": "execute_result",
          "data": {
            "text/plain": [
              "3414349"
            ]
          },
          "metadata": {},
          "execution_count": 13
        }
      ]
    },
    {
      "cell_type": "code",
      "source": [
        "#we will list the columns in order from highest to lowest columns with missing values\n",
        "df.isna().sum().sort_values(ascending=False)"
      ],
      "metadata": {
        "colab": {
          "base_uri": "https://localhost:8080/"
        },
        "id": "mhdaauwe9Ct7",
        "outputId": "7e3c6270-0113-496b-cedb-2c2f6361b3d5"
      },
      "execution_count": 11,
      "outputs": [
        {
          "output_type": "execute_result",
          "data": {
            "text/plain": [
              "Number                   1743911\n",
              "Precipitation(in)         549458\n",
              "Wind_Chill(F)             469643\n",
              "Wind_Speed(mph)           157944\n",
              "Wind_Direction             73775\n",
              "Humidity(%)                73092\n",
              "Weather_Condition          70636\n",
              "Visibility(mi)             70546\n",
              "Temperature(F)             69274\n",
              "Pressure(in)               59200\n",
              "Weather_Timestamp          50736\n",
              "Airport_Code                9549\n",
              "Timezone                    3659\n",
              "Nautical_Twilight           2867\n",
              "Civil_Twilight              2867\n",
              "Sunrise_Sunset              2867\n",
              "Astronomical_Twilight       2867\n",
              "Zipcode                     1319\n",
              "City                         137\n",
              "Street                         2\n",
              "Country                        0\n",
              "Junction                       0\n",
              "Start_Time                     0\n",
              "End_Time                       0\n",
              "Start_Lat                      0\n",
              "Turning_Loop                   0\n",
              "Traffic_Signal                 0\n",
              "Traffic_Calming                0\n",
              "Stop                           0\n",
              "Station                        0\n",
              "Roundabout                     0\n",
              "Railway                        0\n",
              "No_Exit                        0\n",
              "Crossing                       0\n",
              "Give_Way                       0\n",
              "Bump                           0\n",
              "Amenity                        0\n",
              "Start_Lng                      0\n",
              "End_Lat                        0\n",
              "End_Lng                        0\n",
              "Distance(mi)                   0\n",
              "Description                    0\n",
              "Severity                       0\n",
              "Side                           0\n",
              "County                         0\n",
              "State                          0\n",
              "ID                             0\n",
              "dtype: int64"
            ]
          },
          "metadata": {},
          "execution_count": 11
        }
      ]
    },
    {
      "cell_type": "markdown",
      "source": [
        "We see that the most number of values missing is in the \"number\" columns following by Precipitation, and followed by Wind_Chill.\n",
        "\n",
        "Followed by other columns as well."
      ],
      "metadata": {
        "id": "mIj8amec4qG5"
      }
    },
    {
      "cell_type": "markdown",
      "source": [
        "Let's drop the null values from our dataset"
      ],
      "metadata": {
        "id": "JLp2JU29_3FX"
      }
    },
    {
      "cell_type": "markdown",
      "source": [
        "it looks like we have 3,414,349 million null valuesin our dataset"
      ],
      "metadata": {
        "id": "ZECcsFx0BK_2"
      }
    },
    {
      "cell_type": "code",
      "source": [
        "#now let's drop the null values from ourdata\n",
        "\n",
        "df.dropna(inplace=True)\n"
      ],
      "metadata": {
        "id": "7qbJvx3DBhwp"
      },
      "execution_count": 209,
      "outputs": []
    },
    {
      "cell_type": "code",
      "source": [
        "#now let's verify that the nulll values were dropped\n",
        "df.isnull().sum().sum()"
      ],
      "metadata": {
        "colab": {
          "base_uri": "https://localhost:8080/"
        },
        "id": "Y2sCEO1HBqAK",
        "outputId": "b83af90c-7311-4177-a627-a16306b7583d"
      },
      "execution_count": 15,
      "outputs": [
        {
          "output_type": "execute_result",
          "data": {
            "text/plain": [
              "0"
            ]
          },
          "metadata": {},
          "execution_count": 15
        }
      ]
    },
    {
      "cell_type": "markdown",
      "source": [
        "Great! at this point we are sure that we have dropped all null values from our dataset."
      ],
      "metadata": {
        "id": "1VPbHhMrz3W8"
      }
    },
    {
      "cell_type": "markdown",
      "source": [
        "### Check for Duplicated Values"
      ],
      "metadata": {
        "id": "kOIMfScMIXaq"
      }
    },
    {
      "cell_type": "code",
      "source": [
        "#Let's check for any duplicated data\n",
        "\n",
        "df[df.duplicated()]"
      ],
      "metadata": {
        "colab": {
          "base_uri": "https://localhost:8080/",
          "height": 143
        },
        "id": "NC9wJ-cwFBl2",
        "outputId": "7ca0bf2f-407b-4afc-be72-bd1304c88848"
      },
      "execution_count": 16,
      "outputs": [
        {
          "output_type": "execute_result",
          "data": {
            "text/plain": [
              "Empty DataFrame\n",
              "Columns: [ID, Severity, Start_Time, End_Time, Start_Lat, Start_Lng, End_Lat, End_Lng, Distance(mi), Description, Number, Street, Side, City, County, State, Zipcode, Country, Timezone, Airport_Code, Weather_Timestamp, Temperature(F), Wind_Chill(F), Humidity(%), Pressure(in), Visibility(mi), Wind_Direction, Wind_Speed(mph), Precipitation(in), Weather_Condition, Amenity, Bump, Crossing, Give_Way, Junction, No_Exit, Railway, Roundabout, Station, Stop, Traffic_Calming, Traffic_Signal, Turning_Loop, Sunrise_Sunset, Civil_Twilight, Nautical_Twilight, Astronomical_Twilight]\n",
              "Index: []\n",
              "\n",
              "[0 rows x 47 columns]"
            ],
            "text/html": [
              "\n",
              "  <div id=\"df-15cd7f24-2894-4a21-9290-7537925d41bb\">\n",
              "    <div class=\"colab-df-container\">\n",
              "      <div>\n",
              "<style scoped>\n",
              "    .dataframe tbody tr th:only-of-type {\n",
              "        vertical-align: middle;\n",
              "    }\n",
              "\n",
              "    .dataframe tbody tr th {\n",
              "        vertical-align: top;\n",
              "    }\n",
              "\n",
              "    .dataframe thead th {\n",
              "        text-align: right;\n",
              "    }\n",
              "</style>\n",
              "<table border=\"1\" class=\"dataframe\">\n",
              "  <thead>\n",
              "    <tr style=\"text-align: right;\">\n",
              "      <th></th>\n",
              "      <th>ID</th>\n",
              "      <th>Severity</th>\n",
              "      <th>Start_Time</th>\n",
              "      <th>End_Time</th>\n",
              "      <th>Start_Lat</th>\n",
              "      <th>Start_Lng</th>\n",
              "      <th>End_Lat</th>\n",
              "      <th>End_Lng</th>\n",
              "      <th>Distance(mi)</th>\n",
              "      <th>Description</th>\n",
              "      <th>...</th>\n",
              "      <th>Roundabout</th>\n",
              "      <th>Station</th>\n",
              "      <th>Stop</th>\n",
              "      <th>Traffic_Calming</th>\n",
              "      <th>Traffic_Signal</th>\n",
              "      <th>Turning_Loop</th>\n",
              "      <th>Sunrise_Sunset</th>\n",
              "      <th>Civil_Twilight</th>\n",
              "      <th>Nautical_Twilight</th>\n",
              "      <th>Astronomical_Twilight</th>\n",
              "    </tr>\n",
              "  </thead>\n",
              "  <tbody>\n",
              "  </tbody>\n",
              "</table>\n",
              "<p>0 rows × 47 columns</p>\n",
              "</div>\n",
              "      <button class=\"colab-df-convert\" onclick=\"convertToInteractive('df-15cd7f24-2894-4a21-9290-7537925d41bb')\"\n",
              "              title=\"Convert this dataframe to an interactive table.\"\n",
              "              style=\"display:none;\">\n",
              "        \n",
              "  <svg xmlns=\"http://www.w3.org/2000/svg\" height=\"24px\"viewBox=\"0 0 24 24\"\n",
              "       width=\"24px\">\n",
              "    <path d=\"M0 0h24v24H0V0z\" fill=\"none\"/>\n",
              "    <path d=\"M18.56 5.44l.94 2.06.94-2.06 2.06-.94-2.06-.94-.94-2.06-.94 2.06-2.06.94zm-11 1L8.5 8.5l.94-2.06 2.06-.94-2.06-.94L8.5 2.5l-.94 2.06-2.06.94zm10 10l.94 2.06.94-2.06 2.06-.94-2.06-.94-.94-2.06-.94 2.06-2.06.94z\"/><path d=\"M17.41 7.96l-1.37-1.37c-.4-.4-.92-.59-1.43-.59-.52 0-1.04.2-1.43.59L10.3 9.45l-7.72 7.72c-.78.78-.78 2.05 0 2.83L4 21.41c.39.39.9.59 1.41.59.51 0 1.02-.2 1.41-.59l7.78-7.78 2.81-2.81c.8-.78.8-2.07 0-2.86zM5.41 20L4 18.59l7.72-7.72 1.47 1.35L5.41 20z\"/>\n",
              "  </svg>\n",
              "      </button>\n",
              "      \n",
              "  <style>\n",
              "    .colab-df-container {\n",
              "      display:flex;\n",
              "      flex-wrap:wrap;\n",
              "      gap: 12px;\n",
              "    }\n",
              "\n",
              "    .colab-df-convert {\n",
              "      background-color: #E8F0FE;\n",
              "      border: none;\n",
              "      border-radius: 50%;\n",
              "      cursor: pointer;\n",
              "      display: none;\n",
              "      fill: #1967D2;\n",
              "      height: 32px;\n",
              "      padding: 0 0 0 0;\n",
              "      width: 32px;\n",
              "    }\n",
              "\n",
              "    .colab-df-convert:hover {\n",
              "      background-color: #E2EBFA;\n",
              "      box-shadow: 0px 1px 2px rgba(60, 64, 67, 0.3), 0px 1px 3px 1px rgba(60, 64, 67, 0.15);\n",
              "      fill: #174EA6;\n",
              "    }\n",
              "\n",
              "    [theme=dark] .colab-df-convert {\n",
              "      background-color: #3B4455;\n",
              "      fill: #D2E3FC;\n",
              "    }\n",
              "\n",
              "    [theme=dark] .colab-df-convert:hover {\n",
              "      background-color: #434B5C;\n",
              "      box-shadow: 0px 1px 3px 1px rgba(0, 0, 0, 0.15);\n",
              "      filter: drop-shadow(0px 1px 2px rgba(0, 0, 0, 0.3));\n",
              "      fill: #FFFFFF;\n",
              "    }\n",
              "  </style>\n",
              "\n",
              "      <script>\n",
              "        const buttonEl =\n",
              "          document.querySelector('#df-15cd7f24-2894-4a21-9290-7537925d41bb button.colab-df-convert');\n",
              "        buttonEl.style.display =\n",
              "          google.colab.kernel.accessAllowed ? 'block' : 'none';\n",
              "\n",
              "        async function convertToInteractive(key) {\n",
              "          const element = document.querySelector('#df-15cd7f24-2894-4a21-9290-7537925d41bb');\n",
              "          const dataTable =\n",
              "            await google.colab.kernel.invokeFunction('convertToInteractive',\n",
              "                                                     [key], {});\n",
              "          if (!dataTable) return;\n",
              "\n",
              "          const docLinkHtml = 'Like what you see? Visit the ' +\n",
              "            '<a target=\"_blank\" href=https://colab.research.google.com/notebooks/data_table.ipynb>data table notebook</a>'\n",
              "            + ' to learn more about interactive tables.';\n",
              "          element.innerHTML = '';\n",
              "          dataTable['output_type'] = 'display_data';\n",
              "          await google.colab.output.renderOutput(dataTable, element);\n",
              "          const docLink = document.createElement('div');\n",
              "          docLink.innerHTML = docLinkHtml;\n",
              "          element.appendChild(docLink);\n",
              "        }\n",
              "      </script>\n",
              "    </div>\n",
              "  </div>\n",
              "  "
            ]
          },
          "metadata": {},
          "execution_count": 16
        }
      ]
    },
    {
      "cell_type": "markdown",
      "source": [
        "Great it looks like we don't have any duplicated data in our dataset "
      ],
      "metadata": {
        "id": "AXcvA4cSFNph"
      }
    },
    {
      "cell_type": "markdown",
      "source": [
        "### Fix incorrect datatypes\n",
        "\n",
        "The following columns got incorrect datatype of \"object\" and we will change them \"datetime\" datatype\n",
        "\n",
        "1.  End_Time \n",
        "2.  Start_Time "
      ],
      "metadata": {
        "id": "-XfmCJWK6IEE"
      }
    },
    {
      "cell_type": "code",
      "source": [
        "#change \n",
        "df[\"End_Time\"] = pd.to_datetime(df[\"End_Time\"])\n",
        "df[\"Start_Time\"] = pd.to_datetime(df[\"Start_Time\"])\n"
      ],
      "metadata": {
        "id": "Je4jqVb6Eloo"
      },
      "execution_count": 34,
      "outputs": []
    },
    {
      "cell_type": "code",
      "source": [
        "#now let's verify the changes in our datatypes\n",
        "df.End_Time\n",
        "#now we can see the dataype for column End_Time as datetime64\n",
        "# this is also true for the Start_Time column"
      ],
      "metadata": {
        "colab": {
          "base_uri": "https://localhost:8080/"
        },
        "id": "muML_15kKVzd",
        "outputId": "e2951571-a446-475b-d4f9-bea6f94b3666"
      },
      "execution_count": 18,
      "outputs": [
        {
          "output_type": "execute_result",
          "data": {
            "text/plain": [
              "42        2016-02-10 00:20:58\n",
              "43        2016-02-10 00:20:58\n",
              "47        2016-02-10 12:18:49\n",
              "50        2016-02-10 14:35:27\n",
              "66        2016-02-10 18:54:39\n",
              "                  ...        \n",
              "2845298   2019-08-23 16:48:04\n",
              "2845302   2019-08-23 17:54:00\n",
              "2845303   2019-08-23 17:54:00\n",
              "2845304   2019-08-23 01:44:53\n",
              "2845307   2019-08-23 11:01:40\n",
              "Name: End_Time, Length: 943318, dtype: datetime64[ns]"
            ]
          },
          "metadata": {},
          "execution_count": 18
        }
      ]
    },
    {
      "cell_type": "markdown",
      "source": [
        "# Exploratory Data Analysis and Visualization\n",
        "\n"
      ],
      "metadata": {
        "id": "qU6blEzmfU54"
      }
    },
    {
      "cell_type": "markdown",
      "source": [
        "### Check Columns Datatypes\n",
        "\n",
        "Let's first check our dataset columns and choose a few columns to analyze."
      ],
      "metadata": {
        "id": "3goVIqYI_bfK"
      }
    },
    {
      "cell_type": "code",
      "source": [
        "#let's check the columns datatype and see if they are all correct\n",
        "df.info()"
      ],
      "metadata": {
        "colab": {
          "base_uri": "https://localhost:8080/"
        },
        "id": "tRxaK91DVnM4",
        "outputId": "7d848a3d-d359-491b-d0ce-edeccf96a8aa"
      },
      "execution_count": 35,
      "outputs": [
        {
          "output_type": "stream",
          "name": "stdout",
          "text": [
            "<class 'pandas.core.frame.DataFrame'>\n",
            "Int64Index: 943318 entries, 42 to 2845307\n",
            "Data columns (total 47 columns):\n",
            " #   Column                 Non-Null Count   Dtype         \n",
            "---  ------                 --------------   -----         \n",
            " 0   ID                     943318 non-null  object        \n",
            " 1   Severity               943318 non-null  int64         \n",
            " 2   Start_Time             943318 non-null  datetime64[ns]\n",
            " 3   End_Time               943318 non-null  datetime64[ns]\n",
            " 4   Start_Lat              943318 non-null  float64       \n",
            " 5   Start_Lng              943318 non-null  float64       \n",
            " 6   End_Lat                943318 non-null  float64       \n",
            " 7   End_Lng                943318 non-null  float64       \n",
            " 8   Distance(mi)           943318 non-null  float64       \n",
            " 9   Description            943318 non-null  object        \n",
            " 10  Number                 943318 non-null  float64       \n",
            " 11  Street                 943318 non-null  object        \n",
            " 12  Side                   943318 non-null  object        \n",
            " 13  City                   943318 non-null  object        \n",
            " 14  County                 943318 non-null  object        \n",
            " 15  State                  943318 non-null  object        \n",
            " 16  Zipcode                943318 non-null  object        \n",
            " 17  Country                943318 non-null  object        \n",
            " 18  Timezone               943318 non-null  object        \n",
            " 19  Airport_Code           943318 non-null  object        \n",
            " 20  Weather_Timestamp      943318 non-null  datetime64[ns]\n",
            " 21  Temperature(F)         943318 non-null  float64       \n",
            " 22  Wind_Chill(F)          943318 non-null  float64       \n",
            " 23  Humidity(%)            943318 non-null  float64       \n",
            " 24  Pressure(in)           943318 non-null  float64       \n",
            " 25  Visibility(mi)         943318 non-null  float64       \n",
            " 26  Wind_Direction         943318 non-null  object        \n",
            " 27  Wind_Speed(mph)        943318 non-null  float64       \n",
            " 28  Precipitation(in)      943318 non-null  float64       \n",
            " 29  Weather_Condition      943318 non-null  object        \n",
            " 30  Amenity                943318 non-null  bool          \n",
            " 31  Bump                   943318 non-null  bool          \n",
            " 32  Crossing               943318 non-null  bool          \n",
            " 33  Give_Way               943318 non-null  bool          \n",
            " 34  Junction               943318 non-null  bool          \n",
            " 35  No_Exit                943318 non-null  bool          \n",
            " 36  Railway                943318 non-null  bool          \n",
            " 37  Roundabout             943318 non-null  bool          \n",
            " 38  Station                943318 non-null  bool          \n",
            " 39  Stop                   943318 non-null  bool          \n",
            " 40  Traffic_Calming        943318 non-null  bool          \n",
            " 41  Traffic_Signal         943318 non-null  bool          \n",
            " 42  Turning_Loop           943318 non-null  bool          \n",
            " 43  Sunrise_Sunset         943318 non-null  object        \n",
            " 44  Civil_Twilight         943318 non-null  object        \n",
            " 45  Nautical_Twilight      943318 non-null  object        \n",
            " 46  Astronomical_Twilight  943318 non-null  object        \n",
            "dtypes: bool(13), datetime64[ns](3), float64(13), int64(1), object(17)\n",
            "memory usage: 295.8+ MB\n"
          ]
        }
      ]
    },
    {
      "cell_type": "markdown",
      "source": [
        "We will choose the following columns to analyze:\n",
        "\n",
        "1. City\n",
        "2. Start time\n",
        "4. Start LAt, Start Lng\n",
        " "
      ],
      "metadata": {
        "id": "xa-zjD29VlLZ"
      }
    },
    {
      "cell_type": "markdown",
      "source": [
        "Let's analyze columns one by one and ask some questions and draw some insights!"
      ],
      "metadata": {
        "id": "U-3u2PkaNHo8"
      }
    },
    {
      "cell_type": "markdown",
      "source": [
        "### City Column Analysis"
      ],
      "metadata": {
        "id": "EDrwNYn7oU2l"
      }
    },
    {
      "cell_type": "code",
      "source": [
        "#Let's first see what is the number of cities we have in our dataset\n",
        "df.City"
      ],
      "metadata": {
        "colab": {
          "base_uri": "https://localhost:8080/"
        },
        "id": "iiuq181tGFi-",
        "outputId": "b61c6538-8841-4851-ef84-82852a16594f"
      },
      "execution_count": 47,
      "outputs": [
        {
          "output_type": "execute_result",
          "data": {
            "text/plain": [
              "42                   Dunkirk\n",
              "43                    Redkey\n",
              "47                 Willshire\n",
              "50         Cambridge Springs\n",
              "66                 Cleveland\n",
              "                 ...        \n",
              "2845298             Pacifica\n",
              "2845302            Yuba City\n",
              "2845303            Yuba City\n",
              "2845304       San Bernardino\n",
              "2845307               Goleta\n",
              "Name: City, Length: 943318, dtype: object"
            ]
          },
          "metadata": {},
          "execution_count": 47
        }
      ]
    },
    {
      "cell_type": "markdown",
      "source": [
        "it looks like we have 943,318 city names in the dataset"
      ],
      "metadata": {
        "id": "336GPekUG7NM"
      }
    },
    {
      "cell_type": "code",
      "source": [
        "#Let's see what is the unique number of cities we have in the dataset\n",
        "cities= df.City.unique() #< first create a new df that contains only unique cities from the df\n",
        "len(cities)  "
      ],
      "metadata": {
        "colab": {
          "base_uri": "https://localhost:8080/"
        },
        "id": "44IgnrW9HcgW",
        "outputId": "51337486-b26a-4f31-f13a-17b5dc55e28f"
      },
      "execution_count": 49,
      "outputs": [
        {
          "output_type": "execute_result",
          "data": {
            "text/plain": [
              "8504"
            ]
          },
          "metadata": {},
          "execution_count": 49
        }
      ]
    },
    {
      "cell_type": "markdown",
      "source": [
        "It looks like we have 8,504 unique cities in the dataset"
      ],
      "metadata": {
        "id": "JEBY8QfCHxn2"
      }
    },
    {
      "cell_type": "code",
      "source": [
        "#Let's sort the cities by the number of accidents from highest to lowest \n",
        "cities_by_accident = df.City.value_counts()\n",
        "cities_by_accident"
      ],
      "metadata": {
        "colab": {
          "base_uri": "https://localhost:8080/"
        },
        "id": "KHk7E9p-e_K-",
        "outputId": "cb5a49a4-051f-4abc-dcfe-ee6cb6a28f29"
      },
      "execution_count": 48,
      "outputs": [
        {
          "output_type": "execute_result",
          "data": {
            "text/plain": [
              "Miami                           67276\n",
              "Orlando                         37644\n",
              "Los Angeles                     20194\n",
              "Houston                         18923\n",
              "Charlotte                       16044\n",
              "                                ...  \n",
              "Asbury                              1\n",
              "Prestonsburg                        1\n",
              "Marble                              1\n",
              "Intervale                           1\n",
              "American Fork-Pleasant Grove        1\n",
              "Name: City, Length: 8504, dtype: int64"
            ]
          },
          "metadata": {},
          "execution_count": 48
        }
      ]
    },
    {
      "cell_type": "code",
      "source": [
        "#let's check the top 5 cities that had the most accidents\n",
        "cities_by_accident[:5]"
      ],
      "metadata": {
        "colab": {
          "base_uri": "https://localhost:8080/"
        },
        "id": "rU-oKVTnfi0b",
        "outputId": "2dd2def3-97cf-4613-e188-3d5493a5aec1"
      },
      "execution_count": 50,
      "outputs": [
        {
          "output_type": "execute_result",
          "data": {
            "text/plain": [
              "Miami          67276\n",
              "Orlando        37644\n",
              "Los Angeles    20194\n",
              "Houston        18923\n",
              "Charlotte      16044\n",
              "Name: City, dtype: int64"
            ]
          },
          "metadata": {},
          "execution_count": 50
        }
      ]
    },
    {
      "cell_type": "code",
      "source": [
        "#let's plot the top 5 cities with the highest accidents\n",
        "cities_by_accident[:5].plot(kind=\"barh\")"
      ],
      "metadata": {
        "colab": {
          "base_uri": "https://localhost:8080/",
          "height": 282
        },
        "id": "J6xF3uwCg_5j",
        "outputId": "3d1c9487-a590-47eb-d708-a494429a865b"
      },
      "execution_count": 51,
      "outputs": [
        {
          "output_type": "execute_result",
          "data": {
            "text/plain": [
              "<matplotlib.axes._subplots.AxesSubplot at 0x7f0525507f70>"
            ]
          },
          "metadata": {},
          "execution_count": 51
        },
        {
          "output_type": "display_data",
          "data": {
            "text/plain": [
              "<Figure size 432x288 with 1 Axes>"
            ],
            "image/png": "[encoded data removed]"
          },
          "metadata": {}
        }
      ]
    },
    {
      "cell_type": "markdown",
      "source": [
        "In this section, we were able to identify and write codes to help know which cities have the most and which have the least number of accidents.\n",
        "\n",
        "This information along with other information analyzed can help us paint a picture for the dataset."
      ],
      "metadata": {
        "id": "sEhZoVPcIMJj"
      }
    },
    {
      "cell_type": "markdown",
      "source": [
        "### Start Time Column Analysis\n",
        "\n",
        "Here we will analyze the \"Start_Time\" column of the dataset.\n",
        "\n",
        "The Start_Time shows the start time of accident in local time zone."
      ],
      "metadata": {
        "id": "QnydMmoKobjz"
      }
    },
    {
      "cell_type": "code",
      "source": [
        "#let's look at the number of accidents at different hours of the day\n",
        "\n",
        "df.Start_Time.dt.hour #< from the Start_Time column we will focus on the hour values of each datetime "
      ],
      "metadata": {
        "colab": {
          "base_uri": "https://localhost:8080/"
        },
        "id": "scj3xtewp2k5",
        "outputId": "735e94ce-bc02-44dc-a64d-5611ddfe4596"
      },
      "execution_count": 219,
      "outputs": [
        {
          "output_type": "execute_result",
          "data": {
            "text/plain": [
              "42         18\n",
              "43         18\n",
              "47          6\n",
              "50          8\n",
              "66         12\n",
              "           ..\n",
              "2845298    16\n",
              "2845302    17\n",
              "2845303    17\n",
              "2845304     1\n",
              "2845307    10\n",
              "Name: Start_Time, Length: 943318, dtype: int64"
            ]
          },
          "metadata": {},
          "execution_count": 219
        }
      ]
    },
    {
      "cell_type": "code",
      "source": [
        "#here we will plot the number accidents by the hour of the day\n",
        "sns.histplot(df.Start_Time.dt.hour, bins=24)"
      ],
      "metadata": {
        "colab": {
          "base_uri": "https://localhost:8080/",
          "height": 297
        },
        "id": "XFaigS39rDdx",
        "outputId": "a5dbfd3d-9d8d-46d6-c8b5-2f5ea1339d69"
      },
      "execution_count": 218,
      "outputs": [
        {
          "output_type": "execute_result",
          "data": {
            "text/plain": [
              "<matplotlib.axes._subplots.AxesSubplot at 0x7f051f10e730>"
            ]
          },
          "metadata": {},
          "execution_count": 218
        },
        {
          "output_type": "display_data",
          "data": {
            "text/plain": [
              "<Figure size 432x288 with 1 Axes>"
            ],
            "image/png": "[encoded data removed]"
          },
          "metadata": {}
        }
      ]
    },
    {
      "cell_type": "markdown",
      "source": [
        "This histogram plots the number of accidents at different time of the day broken down into 24 hour intervals.\n",
        "\n",
        "Where 0 represents 12:00 am and 23 is 11:00 PM.\n",
        "\n",
        "Here we can see that most number accidents occured roughly between 11 am and 6pm and peaked at 3,4,5.\n",
        "\n",
        "On the other hand, the lowest number of accidents happen in early in the morning from 12:am to 9:00 AM with some variations between 7 am and 8 am."
      ],
      "metadata": {
        "id": "TVA0mETdJ7dw"
      }
    },
    {
      "cell_type": "code",
      "source": [
        "#Another distribution that will show the percentage of number of accidents by time of the day\n",
        "sns.distplot(df.Start_Time.dt.hour, bins=24, kde=False, norm_hist=True)"
      ],
      "metadata": {
        "colab": {
          "base_uri": "https://localhost:8080/",
          "height": 352
        },
        "id": "NGNxMt5rs0pV",
        "outputId": "fb14de0c-3e75-41ec-f383-cf2f85b7deab"
      },
      "execution_count": 220,
      "outputs": [
        {
          "output_type": "stream",
          "name": "stderr",
          "text": [
            "/usr/local/lib/python3.8/dist-packages/seaborn/distributions.py:2619: FutureWarning: `distplot` is a deprecated function and will be removed in a future version. Please adapt your code to use either `displot` (a figure-level function with similar flexibility) or `histplot` (an axes-level function for histograms).\n",
            "  warnings.warn(msg, FutureWarning)\n"
          ]
        },
        {
          "output_type": "execute_result",
          "data": {
            "text/plain": [
              "<matplotlib.axes._subplots.AxesSubplot at 0x7f051f02a4c0>"
            ]
          },
          "metadata": {},
          "execution_count": 220
        },
        {
          "output_type": "display_data",
          "data": {
            "text/plain": [
              "<Figure size 432x288 with 1 Axes>"
            ],
            "image/png": "[encoded data removed]"
          },
          "metadata": {}
        }
      ]
    },
    {
      "cell_type": "markdown",
      "source": [
        "in this distribution plot, we have the **percentage** of the number of accidents that happened in a day plotted in hourly intervals, 24 hours a day.\n",
        "\n",
        "- A high percentage of accidents occur between 11 am to 6 pm\n",
        "- A low percentage of accidents occur early in the morning around 12:am to 9:00 am roughly"
      ],
      "metadata": {
        "id": "auCyu3kGtHnu"
      }
    },
    {
      "cell_type": "markdown",
      "source": [
        "Now we will analyze the number of accidents occured by **day** instead of by hour."
      ],
      "metadata": {
        "id": "jq-REx-ULtbz"
      }
    },
    {
      "cell_type": "code",
      "source": [
        "#this plot will show the number of accidents happened for each day of the week\n",
        "sns.distplot(df.Start_Time.dt.dayofweek, bins=7, kde=False, norm_hist=True)"
      ],
      "metadata": {
        "colab": {
          "base_uri": "https://localhost:8080/",
          "height": 297
        },
        "id": "1EWNCUACPLJx",
        "outputId": "d12fa84c-62e8-4da1-b6fb-e18b5caa7f2d"
      },
      "execution_count": 58,
      "outputs": [
        {
          "output_type": "execute_result",
          "data": {
            "text/plain": [
              "<matplotlib.axes._subplots.AxesSubplot at 0x7f0525347c10>"
            ]
          },
          "metadata": {},
          "execution_count": 58
        },
        {
          "output_type": "display_data",
          "data": {
            "text/plain": [
              "<Figure size 432x288 with 1 Axes>"
            ],
            "image/png": "[encoded data removed]"
          },
          "metadata": {}
        }
      ]
    },
    {
      "cell_type": "markdown",
      "source": [
        "Here we look at the number of accidents for each day of the week, where 0 represents Monday and 6 Represents Sunday.\n",
        "\n",
        "Here we see that more accidents occur during weekdays and fewer accidents occur during weekends.\n",
        "\n",
        "We see more accidents occur on Friday and fewer accidents occurred on Sunday.\n",
        "\n",
        "But is the distribution of accidents by **hour** of the day the same on a weekend day as on a weekday?\n",
        "\n",
        "in the next section, we will compare the number of accidents in a day on an hourly basis for a Sunday and another comparison for a Monday and see if the distribution is similar\n",
        "\n",
        "Let's check it out!"
      ],
      "metadata": {
        "id": "Lk3-kGqsPbii"
      }
    },
    {
      "cell_type": "code",
      "source": [
        "#will create a new dataframe that includes only accidents from \"sunday\" \n",
        "\n",
        "sundays_start_time = df.Start_Time[df.Start_Time.dt.dayofweek == 6]\n",
        "\n",
        "sns.distplot(sundays_start_time.dt.hour, bins=24, kde=False, norm_hist=True)"
      ],
      "metadata": {
        "id": "MxdJvM-3p2tN",
        "colab": {
          "base_uri": "https://localhost:8080/",
          "height": 297
        },
        "outputId": "bae471ec-3558-4b8f-ece0-73010635fd4f"
      },
      "execution_count": 60,
      "outputs": [
        {
          "output_type": "execute_result",
          "data": {
            "text/plain": [
              "<matplotlib.axes._subplots.AxesSubplot at 0x7f0525258e50>"
            ]
          },
          "metadata": {},
          "execution_count": 60
        },
        {
          "output_type": "display_data",
          "data": {
            "text/plain": [
              "<Figure size 432x288 with 1 Axes>"
            ],
            "image/png": "[encoded data removed]"
          },
          "metadata": {}
        }
      ]
    },
    {
      "cell_type": "markdown",
      "source": [
        "For Sunday we surprisingly see a high number of accidents happening early in the morning from 12:00 to 3:0 am and then again the peak from 12:00 pm to 8:00 pm.\n",
        "\n",
        "Let's check how the distribution is for the number of accidents on a Monday"
      ],
      "metadata": {
        "id": "h0WmYLMZU6iH"
      }
    },
    {
      "cell_type": "code",
      "source": [
        "#let's compare the trend of accidents for hours on mondays\n",
        "mondays_start_time = df.Start_Time[df.Start_Time.dt.dayofweek == 0]\n",
        "\n",
        "sns.distplot(mondays_start_time.dt.hour, bins=24, kde=False, norm_hist=True)"
      ],
      "metadata": {
        "colab": {
          "base_uri": "https://localhost:8080/",
          "height": 297
        },
        "id": "AJmT5Qj0Qnrb",
        "outputId": "1e957b42-6543-44f3-e090-0ee4aa810b3c"
      },
      "execution_count": 61,
      "outputs": [
        {
          "output_type": "execute_result",
          "data": {
            "text/plain": [
              "<matplotlib.axes._subplots.AxesSubplot at 0x7f052517fac0>"
            ]
          },
          "metadata": {},
          "execution_count": 61
        },
        {
          "output_type": "display_data",
          "data": {
            "text/plain": [
              "<Figure size 432x288 with 1 Axes>"
            ],
            "image/png": "[encoded data removed]"
          },
          "metadata": {}
        }
      ]
    },
    {
      "cell_type": "markdown",
      "source": [
        "Surprisingly different, the number of peak accidents doesn't happen early in the morning like on a Sunday.\n",
        "\n",
        "The highest number of accidents happen around 12:00 pm to 6 pm, which can be seen around lunch time, rush hour and when people are leaving work."
      ],
      "metadata": {
        "id": "InM5ML2JQ4f3"
      }
    },
    {
      "cell_type": "markdown",
      "source": [
        "Let's analyze the number of accidents by **Month** and see the trend\n",
        "\n"
      ],
      "metadata": {
        "id": "rMgDuxSyVrDM"
      }
    },
    {
      "cell_type": "code",
      "source": [
        "#here we will plot the number of accidents that occured per month\n",
        "sns.distplot(mondays_start_time.dt.month, bins=12, kde=False, norm_hist=True)"
      ],
      "metadata": {
        "colab": {
          "base_uri": "https://localhost:8080/",
          "height": 297
        },
        "id": "ayTX5L3qWw_9",
        "outputId": "05bbe5b2-8d5d-434f-c1ea-c119284038ca"
      },
      "execution_count": 62,
      "outputs": [
        {
          "output_type": "execute_result",
          "data": {
            "text/plain": [
              "<matplotlib.axes._subplots.AxesSubplot at 0x7f05251f8910>"
            ]
          },
          "metadata": {},
          "execution_count": 62
        },
        {
          "output_type": "display_data",
          "data": {
            "text/plain": [
              "<Figure size 432x288 with 1 Axes>"
            ],
            "image/png": "[encoded data removed]"
          },
          "metadata": {}
        }
      ]
    },
    {
      "cell_type": "markdown",
      "source": [
        "This graph distributes the number of accidents by month where 1 represents the month of January and 12 is the month of December.\n",
        "\n",
        "it looks like more accidents are happening in October, November and December.\n",
        "\n",
        "Fewer accidents are happening in the summertime and more during winter time.\n",
        "\n",
        "important notes to keep in mind:\n",
        "\n",
        "1. much data is missing for 2016 and maybe even 2017\n",
        "2. Data does not include values from the City of New York"
      ],
      "metadata": {
        "id": "rTNShx6pXhOz"
      }
    },
    {
      "cell_type": "markdown",
      "source": [
        "###  Start Lat, Start Lng Column Analysis\n",
        "\n",
        "Start_Lat: \n",
        "Shows latitude in GPS coordinate of the start point.\n",
        "\n",
        "Start_Lng: \n",
        "Shows longitude in GPS coordinate of the start point."
      ],
      "metadata": {
        "id": "s-SqIh0VaBqA"
      }
    },
    {
      "cell_type": "code",
      "source": [
        "#let's review the Start_Lat column\n",
        "df.Start_Lat"
      ],
      "metadata": {
        "colab": {
          "base_uri": "https://localhost:8080/"
        },
        "id": "qkZSXR0SaNQR",
        "outputId": "b2f01253-4b19-4c0b-cfe5-a800d25bdef0"
      },
      "execution_count": 69,
      "outputs": [
        {
          "output_type": "execute_result",
          "data": {
            "text/plain": [
              "42         40.451120\n",
              "43         40.354290\n",
              "47         40.728130\n",
              "50         41.831930\n",
              "66         41.483390\n",
              "             ...    \n",
              "2845298    37.609816\n",
              "2845302    38.995930\n",
              "2845303    39.003170\n",
              "2845304    34.121320\n",
              "2845307    34.485189\n",
              "Name: Start_Lat, Length: 943318, dtype: float64"
            ]
          },
          "metadata": {},
          "execution_count": 69
        }
      ]
    },
    {
      "cell_type": "code",
      "source": [
        "#let's review the Start_Lng column\n",
        "df.Start_Lng"
      ],
      "metadata": {
        "colab": {
          "base_uri": "https://localhost:8080/"
        },
        "id": "4y-7hs7LaNSw",
        "outputId": "fbde7ae4-a8e2-454c-df44-e361d5d01825"
      },
      "execution_count": 70,
      "outputs": [
        {
          "output_type": "execute_result",
          "data": {
            "text/plain": [
              "42         -85.150480\n",
              "43         -85.149930\n",
              "47         -84.789650\n",
              "50         -80.101430\n",
              "66         -81.662970\n",
              "              ...    \n",
              "2845298   -122.493720\n",
              "2845302   -121.672020\n",
              "2845303   -121.662679\n",
              "2845304   -117.254540\n",
              "2845307   -120.229276\n",
              "Name: Start_Lng, Length: 943318, dtype: float64"
            ]
          },
          "metadata": {},
          "execution_count": 70
        }
      ]
    },
    {
      "cell_type": "markdown",
      "source": [
        "Because the dataset is huge it will be inefficient and time-consuming to visualize the entire dataset.\n",
        "\n",
        "Instead, we will take a 10% sample and build a scatterplot around it to have a quick peak of what's going on."
      ],
      "metadata": {
        "id": "79PptAGMPV6I"
      }
    },
    {
      "cell_type": "code",
      "source": [
        "#we first will create a new sample df containing only 10% of the dataset\n",
        "\n",
        "sample_df= df.sample(int(0.1 * len(df)))\n"
      ],
      "metadata": {
        "id": "se-1VHf8aNUx"
      },
      "execution_count": 72,
      "outputs": []
    },
    {
      "cell_type": "code",
      "source": [
        "#let's build a scatter plot using a 10% samlpe of our dataset\n",
        "sns.scatterplot(x=sample_df.Start_Lng, y=sample_df.Start_Lat, size=0.001 )"
      ],
      "metadata": {
        "colab": {
          "base_uri": "https://localhost:8080/",
          "height": 299
        },
        "id": "rx_J8TMVbovA",
        "outputId": "68ebc1a1-523b-4340-e2d5-1f57e5ca3c92"
      },
      "execution_count": 73,
      "outputs": [
        {
          "output_type": "execute_result",
          "data": {
            "text/plain": [
              "<matplotlib.axes._subplots.AxesSubplot at 0x7f0525162d60>"
            ]
          },
          "metadata": {},
          "execution_count": 73
        },
        {
          "output_type": "display_data",
          "data": {
            "text/plain": [
              "<Figure size 432x288 with 1 Axes>"
            ],
            "image/png": "[encoded data removed]"
          },
          "metadata": {}
        }
      ]
    },
    {
      "cell_type": "markdown",
      "source": [
        "We will use folium library to show a heatmap of where most accidents are taking place in a map.\n",
        "\n"
      ],
      "metadata": {
        "id": "yYW8U4MFQigZ"
      }
    },
    {
      "cell_type": "code",
      "source": [
        "#we will first import folium library\n",
        "import folium"
      ],
      "metadata": {
        "id": "oaGYd4H_cDar"
      },
      "execution_count": 74,
      "outputs": []
    },
    {
      "cell_type": "code",
      "source": [
        "from folium import plugins\n",
        "from folium.plugins import HeatMap"
      ],
      "metadata": {
        "id": "H01dksB3d4zv"
      },
      "execution_count": 80,
      "outputs": []
    },
    {
      "cell_type": "code",
      "source": [
        "zip (list(df.Start_Lng), list(df.Start_Lat))"
      ],
      "metadata": {
        "colab": {
          "base_uri": "https://localhost:8080/"
        },
        "id": "qPIiz_J6fmAF",
        "outputId": "5158f194-dc34-4a50-f7dc-14af2e151d54"
      },
      "execution_count": 79,
      "outputs": [
        {
          "output_type": "execute_result",
          "data": {
            "text/plain": [
              "<zip at 0x7f0524782d40>"
            ]
          },
          "metadata": {},
          "execution_count": 79
        }
      ]
    },
    {
      "cell_type": "code",
      "source": [
        "sample_df= df.sample(int(0.001* len (df)))\n",
        "lat_lang_pairs= list(zip (list(sample_df.Start_Lat), list(sample_df.Start_Lng)))"
      ],
      "metadata": {
        "id": "xGaikGgChAR3"
      },
      "execution_count": 81,
      "outputs": []
    },
    {
      "cell_type": "code",
      "source": [
        "#let's take a sample of 1% of the dataset and build a heatmap of it\n",
        "map = folium.Map()\n",
        "\n",
        "HeatMap(lat_lang_pairs).add_to(map)\n",
        "map"
      ],
      "metadata": {
        "colab": {
          "base_uri": "https://localhost:8080/",
          "height": 568
        },
        "id": "Y-in-ywncKN2",
        "outputId": "f0470f7b-3fae-4349-eb5d-c1fa18758e0b"
      },
      "execution_count": 83,
      "outputs": [
        {
          "output_type": "execute_result",
          "data": {
            "text/plain": [
              "<folium.folium.Map at 0x7f05249c28b0>"
            ],
            "text/html": [
              "<div style=\"width:100%;\"><div style=\"position:relative;width:100%;height:0;padding-bottom:60%;\"><span style=\"color:#565656\">Make this Notebook Trusted to load map: File -> Trust Notebook</span><iframe srcdoc=\"&lt;!DOCTYPE html&gt;\n",
              "&lt;html&gt;\n",
              "&lt;head&gt;\n",
              "    \n",
              "    &lt;meta http-equiv=&quot;content-type&quot; content=&quot;text/html; charset=UTF-8&quot; /&gt;\n",
              "    \n",
              "        &lt;script&gt;\n",
              "            L_NO_TOUCH = false;\n",
              "            L_DISABLE_3D = false;\n",
              "        &lt;/script&gt;\n",
              "    \n",
              "    &lt;style&gt;html, body {width: 100%;height: 100%;margin: 0;padding: 0;}&lt;/style&gt;\n",
              "    &lt;style&gt;#map {position:absolute;top:0;bottom:0;right:0;left:0;}&lt;/style&gt;\n",
              "    &lt;script src=&quot;https://cdn.jsdelivr.net/npm/leaflet@1.6.0/dist/leaflet.js&quot;&gt;&lt;/script&gt;\n",
              "    &lt;script src=&quot;https://code.jquery.com/jquery-1.12.4.min.js&quot;&gt;&lt;/script&gt;\n",
              "    &lt;script src=&quot;https://maxcdn.bootstrapcdn.com/bootstrap/3.2.0/js/bootstrap.min.js&quot;&gt;&lt;/script&gt;\n",
              "    &lt;script src=&quot;https://cdnjs.cloudflare.com/ajax/libs/Leaflet.awesome-markers/2.0.2/leaflet.awesome-markers.js&quot;&gt;&lt;/script&gt;\n",
              "    &lt;link rel=&quot;stylesheet&quot; href=&quot;https://cdn.jsdelivr.net/npm/leaflet@1.6.0/dist/leaflet.css&quot;/&gt;\n",
              "    &lt;link rel=&quot;stylesheet&quot; href=&quot;https://maxcdn.bootstrapcdn.com/bootstrap/3.2.0/css/bootstrap.min.css&quot;/&gt;\n",
              "    &lt;link rel=&quot;stylesheet&quot; href=&quot;https://maxcdn.bootstrapcdn.com/bootstrap/3.2.0/css/bootstrap-theme.min.css&quot;/&gt;\n",
              "    &lt;link rel=&quot;stylesheet&quot; href=&quot;https://maxcdn.bootstrapcdn.com/font-awesome/4.6.3/css/font-awesome.min.css&quot;/&gt;\n",
              "    &lt;link rel=&quot;stylesheet&quot; href=&quot;https://cdnjs.cloudflare.com/ajax/libs/Leaflet.awesome-markers/2.0.2/leaflet.awesome-markers.css&quot;/&gt;\n",
              "    &lt;link rel=&quot;stylesheet&quot; href=&quot;https://cdn.jsdelivr.net/gh/python-visualization/folium/folium/templates/leaflet.awesome.rotate.min.css&quot;/&gt;\n",
              "    \n",
              "            &lt;meta name=&quot;viewport&quot; content=&quot;width=device-width,\n",
              "                initial-scale=1.0, maximum-scale=1.0, user-scalable=no&quot; /&gt;\n",
              "            &lt;style&gt;\n",
              "                #map_a7b881ffd725112bb14e1ffcfb399536 {\n",
              "                    position: relative;\n",
              "                    width: 100.0%;\n",
              "                    height: 100.0%;\n",
              "                    left: 0.0%;\n",
              "                    top: 0.0%;\n",
              "                }\n",
              "            &lt;/style&gt;\n",
              "        \n",
              "    &lt;script src=&quot;https://cdn.jsdelivr.net/gh/python-visualization/folium@master/folium/templates/leaflet_heat.min.js&quot;&gt;&lt;/script&gt;\n",
              "&lt;/head&gt;\n",
              "&lt;body&gt;\n",
              "    \n",
              "    \n",
              "            &lt;div class=&quot;folium-map&quot; id=&quot;map_a7b881ffd725112bb14e1ffcfb399536&quot; &gt;&lt;/div&gt;\n",
              "        \n",
              "&lt;/body&gt;\n",
              "&lt;script&gt;\n",
              "    \n",
              "    \n",
              "            var map_a7b881ffd725112bb14e1ffcfb399536 = L.map(\n",
              "                &quot;map_a7b881ffd725112bb14e1ffcfb399536&quot;,\n",
              "                {\n",
              "                    center: [0, 0],\n",
              "                    crs: L.CRS.EPSG3857,\n",
              "                    zoom: 1,\n",
              "                    zoomControl: true,\n",
              "                    preferCanvas: false,\n",
              "                }\n",
              "            );\n",
              "\n",
              "            \n",
              "\n",
              "        \n",
              "    \n",
              "            var tile_layer_6fcabda822f07cff2635f994b7d420be = L.tileLayer(\n",
              "                &quot;https://{s}.tile.openstreetmap.org/{z}/{x}/{y}.png&quot;,\n",
              "                {&quot;attribution&quot;: &quot;Data by \\u0026copy; \\u003ca href=\\&quot;http://openstreetmap.org\\&quot;\\u003eOpenStreetMap\\u003c/a\\u003e, under \\u003ca href=\\&quot;http://www.openstreetmap.org/copyright\\&quot;\\u003eODbL\\u003c/a\\u003e.&quot;, &quot;detectRetina&quot;: false, &quot;maxNativeZoom&quot;: 18, &quot;maxZoom&quot;: 18, &quot;minZoom&quot;: 0, &quot;noWrap&quot;: false, &quot;opacity&quot;: 1, &quot;subdomains&quot;: &quot;abc&quot;, &quot;tms&quot;: false}\n",
              "            ).addTo(map_a7b881ffd725112bb14e1ffcfb399536);\n",
              "        \n",
              "    \n",
              "            var heat_map_5670c64e7141b223054a4c0edd1b7c4d = L.heatLayer(\n",
              "                [[40.326512, -75.376588], [25.813393, -80.252608], [40.765608, -74.16064399999998], [40.585677, -78.74761099999998], [39.195204, -123.199161], [36.193885, -86.759512], [42.932184, -85.671824], [38.577101, -121.542344], [36.08189, -86.727026], [35.024693, -81.89530500000002], [43.97679, -122.95706], [26.117069, -80.322135], [43.1183, -73.726672], [42.932535, -73.307645], [40.02957, -75.629395], [37.276859, -79.10091800000002], [36.156947, -86.800903], [25.702088, -80.33795], [28.425509, -81.463202], [35.615786, -119.689843], [47.63401, -122.94413], [42.154639, -73.51818100000001], [42.79015, -73.67829], [25.77054200000001, -80.302187], [25.89843, -80.20723000000002], [25.881818, -80.242974], [35.839238, -78.675899], [30.474261, -87.24810699999998], [35.698166, -76.98857199999998], [35.364688, -118.940873], [33.884268, -117.516253], [34.418481, -119.690068], [35.821049, -78.623406], [28.297166, -81.47565], [38.503214, -122.861043], [40.308505, -79.709153], [39.939132, -75.590153], [36.327148, -121.22419], [43.918593, -122.817437], [40.551715, -78.006701], [32.43434, -93.713464], [39.412197, -123.336144], [33.945419, -118.328566], [34.923542, -120.382871], [34.980669, -81.818224], [37.993054, -121.257158], [38.777417, -90.51028], [35.881842, -78.549497], [27.29888, -82.461685], [38.737889, -77.766133], [34.472685, -120.127766], [30.52614, -99.842331], [38.61153, -121.383064], [45.45815800000001, -122.579066], [29.926377, -90.074014], [37.949641, -78.663085], [40.164932, -78.036564], [25.68692, -80.416652], [34.841949, -82.42922], [32.499966, -110.926244], [45.245904, -123.12304], [36.060945, -95.884551], [30.501585, -91.115217], [36.1936, -86.76324], [38.722239, -77.127175], [32.15929000000001, -111.0072], [40.07788, -75.68800999999998], [38.293522, -77.58810799999998], [25.776963, -80.172679], [45.36696, -122.14309], [33.712720000000004, -112.15236000000002], [44.763848, -93.031499], [28.54612100000001, -81.20373599999998], [44.866443, -111.557204], [38.938105, -77.182959], [33.4183, -80.556218], [37.335432, -119.577404], [25.607303, -80.363067], [42.41247, -123.412754], [38.256633, -122.339483], [29.606481, -95.493639], [45.251107, -123.848114], [30.535478, -87.313076], [45.368651, -110.733625], [38.223952, -122.110857], [30.534193, -87.313125], [28.60873, -81.416851], [25.733731, -80.296357], [37.241653, -93.297467], [36.924351, -121.699429], [40.312776, -78.95768100000002], [43.02226, -74.99361], [28.539012, -81.315304], [43.12458, -76.1861], [25.891749, -80.186577], [40.82009, -73.89026], [29.703812, -95.573408], [25.898818, -80.199095], [28.32597, -81.403722], [37.101527, -121.01582], [25.928288, -80.309653], [33.58711, -80.813133], [33.993488, -117.931648], [38.804133, -90.553757], [36.366352, -119.635931], [47.401971, -94.795654], [33.857042, -79.084048], [26.575081, -81.60385500000002], [25.772049, -80.31213699999998], [38.532688, -121.446234], [35.789312, -78.675038], [40.109437, -76.655384], [40.74195, -74.08396], [43.085787, -75.267475], [36.37196, -119.565005], [35.150465000000004, -80.799453], [42.429469, -124.428923], [37.666405, -122.451378], [34.703981, -82.932709], [40.158017, -75.405377], [25.732116, -80.26189699999998], [28.451587, -81.476023], [28.032213, -82.737496], [27.792157, -82.334038], [40.422175, -80.0477], [29.91522, -81.400896], [28.190801, -82.397188], [36.822783, -119.82132], [35.51356, -97.53425], [32.88001, -96.773083], [43.245631, -77.588549], [36.941037, -121.769416], [27.612402000000003, -82.539744], [38.31618, -81.723552], [37.046091, -122.059916], [39.21144, -78.263088], [30.987689000000003, -87.231164], [27.049739, -82.399713], [34.511194, -82.760642], [34.772331, -92.358849], [27.045025, -82.217012], [40.055369, -111.555958], [36.566802, -121.183544], [44.887168, -123.228777], [25.729264, -80.41375], [25.813438, -80.31345999999998], [34.860783000000005, -82.261726], [40.178129, -75.178798], [39.077479, -121.530629], [37.637966, -120.847685], [37.514146, -121.159927], [36.005413, -86.36494499999998], [34.003143, -118.204842], [33.965226, -118.165048], [44.808136, -93.39912], [45.08897, -123.97016], [29.627131, -81.655449], [38.610006, -121.41756399999998], [34.09579, -78.786661], [34.007027, -117.928659], [43.183704, -95.328508], [44.66242, -124.05493], [35.186238, -120.443092], [46.057487, -123.915231], [40.33535, -85.785821], [33.685573, -117.897151], [29.655772, -95.526419], [32.519638, -93.753204], [42.385996, -88.002894], [45.547833, -94.205333], [30.387889, -97.648155], [43.246934, -77.69653199999998], [28.57138, -81.367983], [38.080169, -121.72917], [35.29216, -80.756393], [36.07448, -86.92093], [32.73722, -96.82462], [32.275698, -110.963204], [38.0528, -122.21618], [32.756566, -96.75362], [34.976058, -81.895205], [25.89806, -80.24071500000002], [46.803915, -114.097653], [44.270299, -92.551213], [39.754332, -105.053241], [30.388233000000003, -97.650914], [29.636735, -95.421628], [27.298799, -82.498568], [38.598281, -120.666656], [34.068135, -118.894444], [30.965239, -85.646682], [25.628961, -80.33958299999998], [30.431688, -84.261871], [45.06323, -123.736465], [40.438201, -78.41630699999997], [34.196212, -79.476837], [28.050061, -82.695766], [43.11452, -123.437197], [41.98283, -87.80026], [30.603461, -87.12031800000004], [35.75473, -97.58488], [25.7622, -80.33025400000002], [38.510705, -122.929482], [26.663825, -81.87791], [33.759726, -117.92148799999998], [39.980384, -78.284296], [35.842281, -78.682377], [27.857181, -82.325609], [40.596708, -80.22621], [40.890496, -74.07033100000002], [39.503334, -121.582619], [35.39389600000001, -118.985177], [27.960817, -82.777309], [41.366567, -78.694744], [32.230289, -80.910067], [28.492141, -81.458805], [39.345291, -77.268294], [34.165002, -118.294268], [33.34811, -80.177638], [32.444720000000004, -93.729804], [28.553175, -81.36617], [46.351989, -94.774374], [43.661, -124.18772], [37.995632, -121.258192], [43.03066, -76.14771999999998], [28.419806, -81.633321], [34.701611, -80.70600999999998], [34.879072, -82.408681], [38.93923, -76.06188], [34.023166, -117.10738], [44.10256500000001, -123.171533], [37.703768, -122.055338], [32.75045, -117.084045], [35.886742, -119.266718], [40.46853400000001, -123.799281], [44.406105, -122.283035], [25.672248, -80.369934], [32.841988, -96.770158], [25.832454, -80.204385], [40.11232800000001, -75.14208], [38.805897, -77.257739], [28.657221000000003, -81.113654], [25.688767, -80.36589000000002], [33.894571, -118.04915], [32.713583, -117.161046], [39.742652, -121.789153], [43.053909, -83.725463], [28.064947, -82.770787], [26.661252, -81.891155], [34.840557000000004, -82.707527], [42.54586, -73.80244], [43.63762, -92.989493], [39.954091, -78.920135], [33.758952, -78.937077], [37.55337700000001, -77.481197], [43.328209, -77.965342], [28.605132, -81.421708], [25.849789, -80.194013], [43.391243, -73.624309], [30.535255, -87.364223], [34.435279, -80.12526700000002], [30.162812, -81.74753199999998], [37.424516, -77.43838199999998], [34.119129, -81.23015], [37.167919, -82.35844200000003], [33.925789, -118.308976], [34.548196000000004, -92.760494], [38.445947, -77.40298], [43.891621, -92.636718], [42.24717, -87.87169], [26.754123, -81.92258100000002], [38.646784, -77.335184], [28.450757, -81.463059], [39.908241, -77.648163], [42.323887, -88.164614], [33.873459999999994, -118.00785], [39.713624, -123.276116], [30.03829600000001, -89.97690300000002], [28.190792, -82.353426], [35.123272, -85.12509399999998], [37.301232, -93.423859], [36.044816, -86.662529], [42.629646, -73.74312900000002], [32.19965, -110.94964], [28.237356, -80.727674], [28.752636, -81.289229], [35.153181, -80.849552], [38.578137, -77.318996], [25.932005, -80.194458], [39.113647, -77.542358], [34.242824, -118.472883], [34.04492800000001, -118.345757], [27.779508, -82.638547], [34.095551, -117.497414], [35.09523, -89.72993000000002], [32.94651, -80.688919], [28.35741, -81.49181], [33.738218, -117.113998], [43.033158, -83.66525], [29.926398, -90.102161], [36.613987, -121.568519], [37.035237, -122.064624], [25.90283, -80.192073], [25.769271, -80.346851], [48.01365, -122.83037], [47.396011, -92.881591], [40.770082, -124.163689], [34.172211, -82.127212], [35.09088, -80.926486], [30.43269, -91.055983], [26.758949, -81.43737], [25.798292, -80.252533], [39.041425, -121.828692], [36.618915, -121.843421], [37.240642, -122.151305], [44.790182, -94.204193], [36.157856, -86.781453], [42.34362, -88.96415], [30.498395, -91.149686], [33.888734, -118.198069], [28.437369, -81.404388], [44.66184000000001, -123.90339], [34.011098, -118.278608], [41.038132, -111.946173], [35.636719, -114.431136], [39.710948, -122.169196], [38.688451, -77.898977], [42.024741, -76.380635], [45.24559, -123.1255], [43.789969, -95.012394], [35.901958, -78.605002], [25.729256, -80.41431700000003], [33.497202, -112.137096], [36.18936, -119.824398], [47.5389, -122.28185], [33.465798, -117.712663], [43.439244, -118.708337], [40.701173, -74.152665], [37.44073, -77.34281999999997], [39.987192, -75.25636], [43.131338, -77.47584599999998], [27.462435, -82.610189], [34.040555, -118.17986100000002], [30.325736, -97.720377], [44.269256, -121.194327], [25.955054, -80.243183], [38.28440300000001, -122.687684], [33.954449, -118.230323], [42.153564, -87.99204300000002], [32.800126, -96.822272], [42.36131, -123.54374], [36.515972, -121.936742], [28.452939, -81.400159], [34.864563000000004, -118.149412], [33.118876, -117.211357], [40.06892, -75.18175], [32.434963, -93.713821], [38.892726, -77.427263], [33.945333000000005, -118.36826299999998], [42.4259, -76.22763], [33.677129, -117.756776], [34.756845, -86.721847], [36.78604, -76.079109], [39.01033, -94.3114], [45.970182, -112.507943], [25.769469, -80.33806899999998], [45.01997100000001, -123.084386], [27.270415000000003, -82.497665], [25.88198, -80.242976], [33.935263, -118.039366], [42.37869600000001, -87.91212], [28.554528, -81.47587800000002], [27.563316, -81.760289], [35.03011, -80.973754], [43.611955, -116.392093], [30.44361, -84.28066], [33.960016, -118.277961], [41.420104, -120.903503], [35.135114, -119.471057], [28.050243, -82.73077099999998], [36.551709, -119.196929], [27.123504, -82.467546], [29.655562, -95.571396], [26.579, -81.871791], [28.33578, -82.18741], [33.193992, -117.151324], [34.962478999999995, -89.95276899999998], [40.181776, -76.203039], [35.039787, -85.228041], [25.654291, -80.415635], [37.125243, -122.122822], [39.455841, -76.307462], [34.07046500000001, -117.396026], [25.930647, -80.290402], [35.864875, -78.63752], [39.935892, -77.046593], [34.033356, -117.724291], [33.597277000000005, -79.061745], [34.14674, -117.249485], [34.492544, -118.621904], [43.620704, -116.29416100000002], [29.053371, -82.391908], [25.933902, -80.121837], [30.209429, -82.649376], [27.4463, -82.49948], [40.347303, -121.597373], [34.472123, -82.65518399999998], [33.336706, -80.37198199999997], [41.279271, -76.407862], [33.916415, -118.273852], [35.143584000000004, -80.929277], [25.714979, -80.380921], [45.780882, -118.098983], [40.286233, -75.585503], [33.256217, -87.694603], [38.50048, -121.431228], [30.50683900000001, -91.12538], [32.093564, -110.909439], [27.447751, -82.574423], [35.136945000000004, -80.937495], [37.159178, -93.259267], [33.99334, -114.130557], [42.904192, -83.497279], [25.950008, -80.14885], [34.139746, -80.916436], [25.592136, -80.379228], [33.90359, -118.192882], [25.686024, -80.399132], [38.772067, -76.995743], [35.0058, -89.85767], [45.822056, -118.855976], [40.159767, -76.006292], [36.86412, -121.722534], [30.273145, -97.723865], [28.413478, -81.423153], [30.445035, -87.233301], [37.871042, -121.641236], [38.151294, -122.88769], [26.656442, -81.899628], [30.33743, -97.75703], [48.26577, -114.357834], [35.088322, -85.289831], [43.148395, -75.675034], [43.456021, -121.701199], [36.143464, -81.287358], [40.654287, -77.630408], [25.92478, -80.154122], [30.217886, -97.667548], [32.300117, -95.300747], [33.873145, -78.702706], [40.07018, -75.09857099999998], [43.205581, -77.66966], [33.252713, -117.116245], [35.148087, -85.249251], [25.516938, -80.36391], [25.733243, -80.333047], [40.944443, -124.098045], [33.54880900000001, -80.386177], [41.78924, -87.92668], [30.463037, -87.263766], [34.094762, -79.056562], [47.863469, -122.282643], [34.185546, -79.98246], [33.56394, -112.18627], [35.790408, -78.58646800000002], [38.393843, -122.692629], [30.436819, -91.084461], [37.259563, -113.286713], [30.15634600000001, -97.754407], [33.163546000000004, -117.341703], [29.983243, -90.06624599999998], [25.811006, -80.25657199999998], [30.54066, -87.280501], [34.334628, -119.139664], [29.961643, -90.114243], [29.437117, -98.645855], [32.792393, -96.686105], [45.90563, -123.74879], [38.220724, -122.257541], [28.5955, -81.244619], [41.96339, -87.97882], [34.122932, -81.311763], [46.532063, -122.62105], [27.981491, -82.301438], [34.22843, -117.288182], [30.384519, -97.649568], [34.796694, -82.471843], [33.993021, -117.931718], [36.108128, -86.677617], [32.768738, -96.765479], [26.489581, -81.843153], [28.010634000000003, -82.263713], [25.824017, -80.23777199999998], [42.883844, -83.849345], [38.468979, -121.408763], [35.124301, -118.494853], [34.625926, -82.298546], [35.210823, -80.759105], [36.19184, -86.6159], [35.739163, -78.608626], [28.436113, -81.384149], [38.372895, -78.788687], [44.32085, -95.93512], [37.214331, -121.987794], [34.87693400000001, -118.153376], [46.1453, -93.72386], [32.720477, -96.889734], [34.109984000000004, -118.012185], [34.344593, -118.90996], [36.045322, -86.701661], [37.51256400000001, -77.455124], [34.056937, -118.27651000000002], [28.449055, -81.470923], [25.79686400000001, -80.34793], [33.925781, -80.341204], [30.43641, -87.278325], [25.808224, -80.313148], [45.77661, -111.216222], [42.35977000000001, -87.901943], [30.927532, -83.246015], [41.24443, -111.992404], [41.102245, -74.069328], [35.001612, -80.855595], [32.959140999999995, -80.183254], [33.529364, -117.715604], [38.283784, -76.559665], [38.869163, -119.995265], [35.21824, -82.71937], [25.739881, -80.41619399999998], [35.82694199999999, -78.56929000000002], [35.277491, -80.806388], [25.958405, -80.29467], [37.563453, -121.177391], [38.55437, -121.47438], [38.51018, -120.48941], [35.302278, -76.808836], [25.540532, -80.390398], [29.630329, -81.867387], [35.041658, -85.297185], [38.602218, -77.29419399999998], [39.828147, -75.39402700000002], [35.232846, -80.841711], [39.974976, -122.176803], [27.81772, -82.787123], [37.76824000000001, -122.40584], [29.745086, -95.361682], [35.199513, -80.760746], [38.905129, -77.519788], [40.401341, -80.24524100000002], [36.97557800000001, -121.718146], [25.553145, -80.372098], [38.55683, -121.47441], [25.913232, -80.326614], [30.428918, -91.187774], [28.523215000000004, -81.309322], [39.137979, -121.009901], [32.198147, -110.904313], [34.921121, -81.991256], [32.49268, -93.797249], [32.405842, -80.90577900000002], [25.672817, -80.400233], [30.185214, -81.703188], [35.784902, -78.70324699999998], [32.862476, -94.013492], [37.863006, -121.145955], [40.077154, -75.148659], [36.946511, -121.76641200000002], [28.552001, -81.475974], [34.266077, -118.973344], [39.577655, -74.717952], [42.74538, -124.49741000000002], [37.268292, -93.118904], [29.797295, -95.34216], [37.616471, -121.030375], [33.591452000000004, -117.513596], [27.894754, -82.72901800000002], [33.939667, -118.352722], [45.7948, -123.22521], [40.518474, -121.682628], [35.13644, -80.97784], [34.022807, -118.168716], [35.06905, -106.56868], [25.901229, -80.185577], [38.540273, -121.362317], [40.07899000000001, -75.0873], [25.890198, -80.188048], [36.797049, -121.75463700000002], [34.445208, -119.671552], [29.688409000000004, -95.574665], [33.963624, -118.169566], [40.72559, -111.911127], [28.449912, -81.47993000000002], [29.596241, -82.074479], [33.970863, -81.171926], [34.423588, -118.423537], [39.983165, -75.588899], [33.973593, -118.078985], [43.048821, -77.693477], [25.691357, -80.30524], [26.519749, -81.95101899999997], [38.617967, -121.397405], [39.046057, -77.507552], [29.702902, -95.571129], [34.064503, -82.14510600000001], [32.74607, -97.308408], [38.596857, -121.401554], [30.47905200000001, -91.136651], [32.792505, -96.683671], [45.020969, -92.959532], [43.535412, -96.692704], [37.332979, -79.25863000000003], [40.809233, -75.24379499999998], [40.447688, -124.151988], [25.92446, -80.154219], [36.868142, -121.645769], [37.334944, -77.366527], [35.982405, -79.898489], [35.832104, -78.584152], [33.857064, -117.96486000000002], [30.512046999999995, -91.125582], [28.45012800000001, -81.466706], [36.21459, -86.60481], [45.30534, -121.81617], [25.926486, -80.204284], [43.18465, -77.5067], [35.171388, -80.769773], [39.98862, -76.17989], [25.829285, -80.245094], [43.26995, -91.72503], [47.86508, -121.71816], [34.272232, -118.589428], [34.04486, -117.724417], [42.974037, -117.053333], [41.99445, -88.10965], [25.700704, -80.383193], [40.259394, -75.241778], [34.903711, -82.418712], [41.10261, -76.720157], [38.818656, -77.44336700000002], [35.349881, -118.873796], [33.245398, -87.672883], [42.339122, -88.095827], [32.500060999999995, -93.758895], [25.684676, -80.387136], [42.616221, -124.396569], [43.176083, -77.56743], [25.760892, -80.394712], [27.821137, -82.678503], [30.305764, -97.702906], [36.106586, -87.064111], [28.53716, -81.31046500000002], [34.075723, -118.134473], [34.098244, -117.453596], [40.809914, -77.862313], [29.704361, -95.55881], [33.717040000000004, -81.11061], [25.795285, -80.205539], [40.133419, -76.21341600000002], [34.604267, -82.48940999999998], [33.46929, -82.06766999999998], [27.52567800000001, -82.513149], [34.032684, -118.310067], [34.095123, -118.242287], [25.85304, -80.184831], [25.702429, -80.33314200000002], [30.2388, -97.75355], [27.821016, -82.702997], [39.152505, -121.659673], [30.446917, -87.2872], [37.67424000000001, -122.1235], [28.568412, -81.280363], [28.552294, -81.454695], [35.95877700000001, -78.533918], [28.452192, -81.400388], [37.810432, -120.306965], [30.423677, -87.24217800000002], [39.257169, -121.197788], [34.140571, -80.913657], [38.814477, -77.135636], [28.525758000000003, -81.459103], [34.088123, -86.587728], [33.378155, -111.966768], [25.819556, -80.36968], [36.036258, -86.78705699999998], [27.839077000000003, -82.730323], [40.109679, -75.275562], [43.29651, -122.91555], [25.765896, -80.263423], [36.764743, -120.387133], [35.148689000000005, -80.831998], [40.026061, -122.171771], [25.957296, -80.201578], [40.82009, -73.89026], [44.0757, -122.779457], [39.101466, -77.539447], [29.92917000000001, -95.0366], [35.89131300000001, -78.56076], [43.586983, -116.27413500000002], [33.935951, -118.047597], [34.469463, -117.717099], [33.256334, -111.327949], [33.922678999999995, -118.040623], [28.546471, -81.41588399999998], [25.796818, -80.324187], [32.745784, -117.249321], [42.772507, -122.48783600000002], [38.663948, -121.229301], [37.99426500000001, -122.113096], [43.745951, -122.476435], [33.938002000000004, -117.406658], [45.779251, -118.086619], [25.744406, -80.225792], [37.340973, -77.46757099999998], [25.897036, -80.249724], [46.168733, -123.669828], [28.094216, -82.50232199999998], [34.24971, -117.291842], [35.767604, -78.690726], [37.434641, -77.473035], [41.243026, -111.96995], [39.173367, -123.211521], [28.558339, -81.593867], [37.554555, -77.48456800000002], [34.139685, -117.955667], [29.662642, -95.463977], [25.861247, -80.209616], [38.591181, -121.415303], [33.977546999999994, -118.252047], [25.581185, -80.367202], [34.982583, -81.97034000000002], [35.263256, -80.837172], [30.250053, -97.754936], [36.753818, -119.837742], [25.798147, -80.36918299999998], [28.452192, -81.400388], [36.387931, -77.058094], [36.09982, -80.24603], [28.567115, -81.210264], [25.687904, -80.335325], [39.734028, -84.252922], [40.22306, -122.405966], [35.223279, -78.05669], [34.52459, -118.237962], [35.215672, -80.782154], [35.896528, -78.61128599999998], [28.305638, -82.618723], [27.937815000000004, -82.27154300000002], [28.357465, -81.49890699999997], [35.157429, -120.671547], [35.16255, -80.73954], [30.135513, -84.387834], [28.435979, -81.406609], [32.662231, -96.839894], [38.911157, -77.047789], [43.046794, -73.789379], [35.017638, -80.850175], [38.89923, -77.01522], [34.034014, -118.37989], [40.437358, -79.842011], [28.568955, -81.207835], [25.867587, -80.257264], [34.104395000000004, -118.253435], [32.566928999999995, -97.119781], [28.091666, -82.739423], [43.321865, -122.694576], [42.359361, -88.033247], [38.653284, -77.643732], [41.15126400000001, -111.935028], [40.00163, -75.584781], [37.638478000000006, -121.049056], [26.703439000000003, -81.75247399999998], [25.578347, -80.369697], [42.000642, -124.208584], [33.514232, -112.229115], [32.340674, -95.326227], [33.974646, -118.28544], [43.87300000000001, -93.30165], [39.18217, -84.42725], [35.20568, -80.72595], [42.904952, -83.603082], [25.685903, -80.395923], [25.889339, -80.165094], [28.47468, -81.39674000000002], [30.455745, -87.253253], [35.197835, -80.79034899999998], [30.43671, -85.18585300000002], [35.797729, -78.57646899999997], [25.746539, -80.303499], [25.735016, -80.416], [33.83579, -117.522995], [30.404025, -91.180212], [34.652907, -118.236144], [37.634199, -122.088619], [36.596866, -119.430817], [35.891888, -119.270058], [33.51877, -111.90888], [45.32057, -123.07225], [46.020451, -123.624933], [44.200952, -92.617095], [25.883637, -80.243199], [39.582516, -122.007519], [44.155993, -93.948912], [44.668665, -123.222768], [28.458241, -81.365643], [34.040896999999994, -118.3177], [27.269325, -82.502678], [37.98462, -121.242941], [33.742128, -81.279539], [44.766257, -124.064748], [38.356518, -77.035967], [30.457167, -84.326447], [37.348912, -120.878244], [27.370305, -82.552686], [43.383389, -121.730414], [25.764483, -80.261778], [35.107499, -81.70276], [33.96575900000001, -118.164984], [36.990288, -122.02047], [32.643445, -96.779667], [25.868197, -80.236372], [39.229285, -120.013238], [33.81033, -117.831786], [43.00461, -124.41566], [39.012847, -122.057009], [33.833143, -117.519122], [25.909499, -80.236108], [33.975731, -118.282677], [40.296908, -122.396847], [42.78346, -86.01839], [43.120274, -77.535691], [28.57763, -81.46776], [38.254973, -121.282446], [38.138169, -122.469786], [25.855234, -80.211704], [29.735669, -95.451501], [33.864816, -112.634449], [25.748801, -80.335788], [38.908617, -77.46666], [47.120237, -122.436827], [47.457389, -111.090265], [35.015219, -85.163687], [28.344315, -81.33059899999998], [27.174177, -82.479624], [34.372359, -118.915955], [25.715596, -80.415222], [42.02602, -87.81624000000002], [28.786997, -81.211044], [35.982453, -78.26494100000002], [34.152163, -118.46676399999998], [39.01531, -76.97779], [35.087574, -80.862239], [33.187626, -117.114403], [40.630658, -122.272665], [35.848411, -78.580247], [28.450312, -81.408456], [29.678051, -95.266328], [39.124765, -121.560187], [39.025283, -77.019468], [32.1633, -110.94342], [25.769715, -80.334621], [25.643088, -80.414896], [40.167647, -75.076326], [41.79194, -87.80156], [28.454246, -81.399773], [34.043774, -118.456033], [38.797563, -77.520084], [34.063968, -118.216732], [38.19732, -120.800806], [29.674399, -95.565085], [38.540874, -121.476944], [41.18824, -76.91372], [45.41041, -122.48608], [38.150335, -121.661235], [33.49096, -80.844915], [25.617799, -80.38189200000002], [35.93460800000001, -119.922052], [28.332751, -81.515999], [33.878491, -118.345027], [25.702088, -80.33795], [37.556049, -77.473749], [43.177373, -83.774222], [34.342199, -79.494206], [30.082155, -82.454557], [29.976799, -90.05504300000004], [25.685045, -80.428016], [37.11983, -121.976062], [28.260603000000003, -81.622022], [34.01996, -118.155244], [30.411969, -97.630874], [35.013739, -117.837302], [34.987667, -80.85327], [43.0883, -73.70233], [37.220149, -93.311943], [25.882324, -80.129244], [41.125795, -78.844313], [43.054264, -83.693809], [35.01445, -85.26308], [30.37528, -84.26993], [34.611739, -118.271124], [39.037567, -76.999064], [41.672502, -73.805288], [33.697194, -80.241979], [29.953583, -90.102128], [36.274728, -121.184425], [40.160074, -75.139862], [37.607791, -122.49687], [37.481774, -77.479424], [37.632195, -120.316183], [25.686257, -80.385571], [27.98167, -82.30229], [33.437721, -111.94286], [33.903835, -118.26528], [35.263482, -118.914439], [28.49795300000001, -81.310126], [29.360951, -82.251387], [38.021055, -121.265482], [43.1777, -77.56044], [32.13394, -110.96791], [47.53708, -122.679401], [36.043083, -86.842833], [33.989175, -117.971898], [25.853927, -80.225643], [27.943554, -82.79996], [39.585288, -110.813319], [27.894311, -82.749926], [42.68047, -74.47162900000002], [29.668158, -95.435204], [35.795489, -78.53505899999998], [35.068974, -83.601698], [39.010166, -76.979238], [45.02301, -92.781467], [40.78049, -73.0083], [36.05111, -119.393373], [33.779965000000004, -117.875458], [35.873246, -78.687373], [34.794025, -82.414055], [36.349615, -79.979502], [27.460742, -81.429982], [35.177658, -80.794294], [29.662589, -95.45639], [35.383441, -119.234313], [35.42073, -97.57818], [36.332244, -121.246652]],\n",
              "                {&quot;blur&quot;: 15, &quot;maxZoom&quot;: 18, &quot;minOpacity&quot;: 0.5, &quot;radius&quot;: 25}\n",
              "            ).addTo(map_a7b881ffd725112bb14e1ffcfb399536);\n",
              "        \n",
              "&lt;/script&gt;\n",
              "&lt;/html&gt;\" style=\"position:absolute;width:100%;height:100%;left:0;top:0;border:none !important;\" allowfullscreen webkitallowfullscreen mozallowfullscreen></iframe></div></div>"
            ]
          },
          "metadata": {},
          "execution_count": 83
        }
      ]
    },
    {
      "cell_type": "markdown",
      "source": [
        "you can zoom in on the map and see if your state or city has some of the highest or lowest numbers of accidents if you live in the US."
      ],
      "metadata": {
        "id": "5bT6o6VxQwPw"
      }
    },
    {
      "cell_type": "markdown",
      "source": [
        "# Ask and Answer Questions\n",
        "\n",
        "1. Which are the 5 states that had the highest number of accidents?\n",
        "2. which day of the week had the highest number of accidents?\n",
        "3. which month had the highest and which had the lowest number of accidents?\n",
        "4. What is the average number of sever accidents?\n",
        "5. Which state had the highest and which had the lowest number of sever accidents?"
      ],
      "metadata": {
        "id": "NZFsaqKXXIXA"
      }
    },
    {
      "cell_type": "code",
      "source": [
        "#which 5 states have the highest number of accidents?\n",
        "states_by_accident = df.State.value_counts()\n",
        "states_by_accident[:5]"
      ],
      "metadata": {
        "colab": {
          "base_uri": "https://localhost:8080/"
        },
        "id": "nuu_G3iFRpaT",
        "outputId": "dab09fda-9e18-42de-ad55-2b0b9d694db0"
      },
      "execution_count": 95,
      "outputs": [
        {
          "output_type": "execute_result",
          "data": {
            "text/plain": [
              "FL    217566\n",
              "CA    215629\n",
              "SC     57481\n",
              "TX     52073\n",
              "PA     48470\n",
              "Name: State, dtype: int64"
            ]
          },
          "metadata": {},
          "execution_count": 95
        }
      ]
    },
    {
      "cell_type": "markdown",
      "source": [
        "## 1- The 5 states with the highest number of accidents are:\n",
        "1. Florida\n",
        "2. California\n",
        "3. South Carolina \n",
        "4. Texas\n",
        "5. Pennsylvania"
      ],
      "metadata": {
        "id": "m_SKQNJfSjvm"
      }
    },
    {
      "cell_type": "markdown",
      "source": [
        "## 2- Which day of the week have the most accidents?\n",
        "\n",
        "\n",
        "\n"
      ],
      "metadata": {
        "id": "bNAqsvb4TN7G"
      }
    },
    {
      "cell_type": "code",
      "source": [
        "sns.distplot(df.Start_Time.dt.dayofweek, bins=7, kde=False, norm_hist=True)\n"
      ],
      "metadata": {
        "colab": {
          "base_uri": "https://localhost:8080/",
          "height": 297
        },
        "id": "j2bQZEq8TVMJ",
        "outputId": "03a6bd00-d7bf-499b-826d-950a59782616"
      },
      "execution_count": 221,
      "outputs": [
        {
          "output_type": "execute_result",
          "data": {
            "text/plain": [
              "<matplotlib.axes._subplots.AxesSubplot at 0x7f051ef10f40>"
            ]
          },
          "metadata": {},
          "execution_count": 221
        },
        {
          "output_type": "display_data",
          "data": {
            "text/plain": [
              "<Figure size 432x288 with 1 Axes>"
            ],
            "image/png": "[encoded data removed]"
          },
          "metadata": {}
        }
      ]
    },
    {
      "cell_type": "code",
      "source": [
        "days_of_the_week = df.Start_Time.dt.dayofweek\n",
        "days_of_the_week.value_counts()"
      ],
      "metadata": {
        "colab": {
          "base_uri": "https://localhost:8080/"
        },
        "id": "ES9AnnThVuY-",
        "outputId": "369b8f01-670b-428d-da02-988b20b79112"
      },
      "execution_count": 222,
      "outputs": [
        {
          "output_type": "execute_result",
          "data": {
            "text/plain": [
              "4    162753\n",
              "2    148520\n",
              "3    148505\n",
              "1    142507\n",
              "0    134229\n",
              "5    117344\n",
              "6     89460\n",
              "Name: Start_Time, dtype: int64"
            ]
          },
          "metadata": {},
          "execution_count": 222
        }
      ]
    },
    {
      "cell_type": "markdown",
      "source": [
        "As we see, **Friday** has the highest number of accidents 162,753 and **Sunday** has the least number of accidents  89,460 "
      ],
      "metadata": {
        "id": "WRKob-qjWJdc"
      }
    },
    {
      "cell_type": "markdown",
      "source": [
        "## 3- Which months have had the most and least number of accidents?"
      ],
      "metadata": {
        "id": "Ncn7v1FqWSzr"
      }
    },
    {
      "cell_type": "code",
      "source": [
        "#will plot the number of accidents occurred per month\n",
        "sns.distplot(df.Start_Time.dt.month, bins=7, kde=False, norm_hist=True)\n"
      ],
      "metadata": {
        "colab": {
          "base_uri": "https://localhost:8080/",
          "height": 297
        },
        "id": "xJnvgSQjWdmi",
        "outputId": "cba5fa9d-c433-440d-8914-e7a7ec6a3928"
      },
      "execution_count": 119,
      "outputs": [
        {
          "output_type": "execute_result",
          "data": {
            "text/plain": [
              "<matplotlib.axes._subplots.AxesSubplot at 0x7f051f497550>"
            ]
          },
          "metadata": {},
          "execution_count": 119
        },
        {
          "output_type": "display_data",
          "data": {
            "text/plain": [
              "<Figure size 432x288 with 1 Axes>"
            ],
            "image/png": "[encoded data removed]"
          },
          "metadata": {}
        }
      ]
    },
    {
      "cell_type": "code",
      "source": [
        "#will sort the number of accidents by month from highest to lowest \n",
        "by_month.value_counts()"
      ],
      "metadata": {
        "colab": {
          "base_uri": "https://localhost:8080/"
        },
        "id": "Gmf11fNzXCdQ",
        "outputId": "82bc2cec-0e21-4c4c-a1a0-afcf48c0cfa6"
      },
      "execution_count": 120,
      "outputs": [
        {
          "output_type": "execute_result",
          "data": {
            "text/plain": [
              "12    175983\n",
              "11    138527\n",
              "10    104994\n",
              "9      83090\n",
              "6      73645\n",
              "1      58736\n",
              "8      57344\n",
              "5      55293\n",
              "2      54365\n",
              "4      51594\n",
              "7      48389\n",
              "3      41358\n",
              "Name: Start_Time, dtype: int64"
            ]
          },
          "metadata": {},
          "execution_count": 120
        }
      ]
    },
    {
      "cell_type": "markdown",
      "source": [
        "Ae we can see that the highest number of accidents occurred in **December** and the lowest number of accidents occurred in **March**."
      ],
      "metadata": {
        "id": "L9jXpeCfXPb5"
      }
    },
    {
      "cell_type": "markdown",
      "source": [
        "## 4- What is the average number of severe accidents?\n",
        "\n",
        "Severe accidents:\n",
        "Shows the severity of the accident, a number between 1 and 4, where 1 indicates the least impact on traffic (i.e., short delay"
      ],
      "metadata": {
        "id": "OWX4yRKCXen8"
      }
    },
    {
      "cell_type": "code",
      "source": [
        "#the average number of sever accidents that happened between the dataset time frame is 2\n",
        "df[\"Severity\"].mean()"
      ],
      "metadata": {
        "colab": {
          "base_uri": "https://localhost:8080/"
        },
        "id": "6UHmzPMfXCqs",
        "outputId": "45b64b8a-ced3-4c69-daeb-0383a095d297"
      },
      "execution_count": 124,
      "outputs": [
        {
          "output_type": "execute_result",
          "data": {
            "text/plain": [
              "2.0649166028847112"
            ]
          },
          "metadata": {},
          "execution_count": 124
        }
      ]
    },
    {
      "cell_type": "markdown",
      "source": [
        "## 5- in which State did most of the severe accidents take place?"
      ],
      "metadata": {
        "id": "6ky3Rku2Ywni"
      }
    },
    {
      "cell_type": "code",
      "source": [
        "df.sort_values(by=[\"Severity\",\"State\"], ascending=False)[[\"Severity\", \"State\"]][10:]"
      ],
      "metadata": {
        "colab": {
          "base_uri": "https://localhost:8080/",
          "height": 423
        },
        "id": "3T-zAz0HdTsb",
        "outputId": "13155b91-f77c-4581-c7dc-3c8a20659c29"
      },
      "execution_count": 206,
      "outputs": [
        {
          "output_type": "execute_result",
          "data": {
            "text/plain": [
              "         Severity State\n",
              "2366584         4    WY\n",
              "2366585         4    WY\n",
              "2435715         4    WY\n",
              "2448196         4    WY\n",
              "2448197         4    WY\n",
              "...           ...   ...\n",
              "2223911         1    AL\n",
              "2243256         1    AL\n",
              "2258989         1    AL\n",
              "2268589         1    AL\n",
              "2270602         1    AL\n",
              "\n",
              "[943308 rows x 2 columns]"
            ],
            "text/html": [
              "\n",
              "  <div id=\"df-1485a9fb-0f17-45f6-b89a-b4998dc6565c\">\n",
              "    <div class=\"colab-df-container\">\n",
              "      <div>\n",
              "<style scoped>\n",
              "    .dataframe tbody tr th:only-of-type {\n",
              "        vertical-align: middle;\n",
              "    }\n",
              "\n",
              "    .dataframe tbody tr th {\n",
              "        vertical-align: top;\n",
              "    }\n",
              "\n",
              "    .dataframe thead th {\n",
              "        text-align: right;\n",
              "    }\n",
              "</style>\n",
              "<table border=\"1\" class=\"dataframe\">\n",
              "  <thead>\n",
              "    <tr style=\"text-align: right;\">\n",
              "      <th></th>\n",
              "      <th>Severity</th>\n",
              "      <th>State</th>\n",
              "    </tr>\n",
              "  </thead>\n",
              "  <tbody>\n",
              "    <tr>\n",
              "      <th>2366584</th>\n",
              "      <td>4</td>\n",
              "      <td>WY</td>\n",
              "    </tr>\n",
              "    <tr>\n",
              "      <th>2366585</th>\n",
              "      <td>4</td>\n",
              "      <td>WY</td>\n",
              "    </tr>\n",
              "    <tr>\n",
              "      <th>2435715</th>\n",
              "      <td>4</td>\n",
              "      <td>WY</td>\n",
              "    </tr>\n",
              "    <tr>\n",
              "      <th>2448196</th>\n",
              "      <td>4</td>\n",
              "      <td>WY</td>\n",
              "    </tr>\n",
              "    <tr>\n",
              "      <th>2448197</th>\n",
              "      <td>4</td>\n",
              "      <td>WY</td>\n",
              "    </tr>\n",
              "    <tr>\n",
              "      <th>...</th>\n",
              "      <td>...</td>\n",
              "      <td>...</td>\n",
              "    </tr>\n",
              "    <tr>\n",
              "      <th>2223911</th>\n",
              "      <td>1</td>\n",
              "      <td>AL</td>\n",
              "    </tr>\n",
              "    <tr>\n",
              "      <th>2243256</th>\n",
              "      <td>1</td>\n",
              "      <td>AL</td>\n",
              "    </tr>\n",
              "    <tr>\n",
              "      <th>2258989</th>\n",
              "      <td>1</td>\n",
              "      <td>AL</td>\n",
              "    </tr>\n",
              "    <tr>\n",
              "      <th>2268589</th>\n",
              "      <td>1</td>\n",
              "      <td>AL</td>\n",
              "    </tr>\n",
              "    <tr>\n",
              "      <th>2270602</th>\n",
              "      <td>1</td>\n",
              "      <td>AL</td>\n",
              "    </tr>\n",
              "  </tbody>\n",
              "</table>\n",
              "<p>943308 rows × 2 columns</p>\n",
              "</div>\n",
              "      <button class=\"colab-df-convert\" onclick=\"convertToInteractive('df-1485a9fb-0f17-45f6-b89a-b4998dc6565c')\"\n",
              "              title=\"Convert this dataframe to an interactive table.\"\n",
              "              style=\"display:none;\">\n",
              "        \n",
              "  <svg xmlns=\"http://www.w3.org/2000/svg\" height=\"24px\"viewBox=\"0 0 24 24\"\n",
              "       width=\"24px\">\n",
              "    <path d=\"M0 0h24v24H0V0z\" fill=\"none\"/>\n",
              "    <path d=\"M18.56 5.44l.94 2.06.94-2.06 2.06-.94-2.06-.94-.94-2.06-.94 2.06-2.06.94zm-11 1L8.5 8.5l.94-2.06 2.06-.94-2.06-.94L8.5 2.5l-.94 2.06-2.06.94zm10 10l.94 2.06.94-2.06 2.06-.94-2.06-.94-.94-2.06-.94 2.06-2.06.94z\"/><path d=\"M17.41 7.96l-1.37-1.37c-.4-.4-.92-.59-1.43-.59-.52 0-1.04.2-1.43.59L10.3 9.45l-7.72 7.72c-.78.78-.78 2.05 0 2.83L4 21.41c.39.39.9.59 1.41.59.51 0 1.02-.2 1.41-.59l7.78-7.78 2.81-2.81c.8-.78.8-2.07 0-2.86zM5.41 20L4 18.59l7.72-7.72 1.47 1.35L5.41 20z\"/>\n",
              "  </svg>\n",
              "      </button>\n",
              "      \n",
              "  <style>\n",
              "    .colab-df-container {\n",
              "      display:flex;\n",
              "      flex-wrap:wrap;\n",
              "      gap: 12px;\n",
              "    }\n",
              "\n",
              "    .colab-df-convert {\n",
              "      background-color: #E8F0FE;\n",
              "      border: none;\n",
              "      border-radius: 50%;\n",
              "      cursor: pointer;\n",
              "      display: none;\n",
              "      fill: #1967D2;\n",
              "      height: 32px;\n",
              "      padding: 0 0 0 0;\n",
              "      width: 32px;\n",
              "    }\n",
              "\n",
              "    .colab-df-convert:hover {\n",
              "      background-color: #E2EBFA;\n",
              "      box-shadow: 0px 1px 2px rgba(60, 64, 67, 0.3), 0px 1px 3px 1px rgba(60, 64, 67, 0.15);\n",
              "      fill: #174EA6;\n",
              "    }\n",
              "\n",
              "    [theme=dark] .colab-df-convert {\n",
              "      background-color: #3B4455;\n",
              "      fill: #D2E3FC;\n",
              "    }\n",
              "\n",
              "    [theme=dark] .colab-df-convert:hover {\n",
              "      background-color: #434B5C;\n",
              "      box-shadow: 0px 1px 3px 1px rgba(0, 0, 0, 0.15);\n",
              "      filter: drop-shadow(0px 1px 2px rgba(0, 0, 0, 0.3));\n",
              "      fill: #FFFFFF;\n",
              "    }\n",
              "  </style>\n",
              "\n",
              "      <script>\n",
              "        const buttonEl =\n",
              "          document.querySelector('#df-1485a9fb-0f17-45f6-b89a-b4998dc6565c button.colab-df-convert');\n",
              "        buttonEl.style.display =\n",
              "          google.colab.kernel.accessAllowed ? 'block' : 'none';\n",
              "\n",
              "        async function convertToInteractive(key) {\n",
              "          const element = document.querySelector('#df-1485a9fb-0f17-45f6-b89a-b4998dc6565c');\n",
              "          const dataTable =\n",
              "            await google.colab.kernel.invokeFunction('convertToInteractive',\n",
              "                                                     [key], {});\n",
              "          if (!dataTable) return;\n",
              "\n",
              "          const docLinkHtml = 'Like what you see? Visit the ' +\n",
              "            '<a target=\"_blank\" href=https://colab.research.google.com/notebooks/data_table.ipynb>data table notebook</a>'\n",
              "            + ' to learn more about interactive tables.';\n",
              "          element.innerHTML = '';\n",
              "          dataTable['output_type'] = 'display_data';\n",
              "          await google.colab.output.renderOutput(dataTable, element);\n",
              "          const docLink = document.createElement('div');\n",
              "          docLink.innerHTML = docLinkHtml;\n",
              "          element.appendChild(docLink);\n",
              "        }\n",
              "      </script>\n",
              "    </div>\n",
              "  </div>\n",
              "  "
            ]
          },
          "metadata": {},
          "execution_count": 206
        }
      ]
    },
    {
      "cell_type": "markdown",
      "source": [
        "The state which had the most severe accidents is Wyoming while Alabama had the least number of severe accidents."
      ],
      "metadata": {
        "id": "xu6KT2dSembr"
      }
    },
    {
      "cell_type": "markdown",
      "source": [
        "# Summary and Conclusion\n",
        "\n",
        "Summary\n",
        "After analyzing a few columns in the dataset we came up with a few insights about car accidents in the US.\n",
        "\n",
        "The five highest states that had the most number of accidents were:\n",
        "1. Florida\n",
        "2. California\n",
        "3. South Carolina\n",
        "4. Texas\n",
        "5. Pennsylvania\n",
        "\n",
        "When we look at which day of the week had the most number of accidents that would be Friday with 162,753 accidents.\n",
        "\n",
        "The least accidents happened on a Sunday with only 89,460 accidents.\n",
        "\n",
        "in terms of analyzing the trends of accidents in different months, we see that January had the most number of accidents with 175,983.\n",
        "\n",
        "While March had the least number of accidents with 41,358 accidents.\n",
        "\n",
        "Of all the accidents there was an average of 2.06 severe accidents occurred and the state with the most severe accidents was Wyoming.\n",
        "\n",
        "While Alabama had the lowest number of severe accidents.\n",
        "\n",
        "Note:\n",
        "The dataset did not include any data from the city of New York."
      ],
      "metadata": {
        "id": "xH7YWCuJk8qs"
      }
    }
  ]
}